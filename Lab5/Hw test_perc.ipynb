{
 "cells": [
  {
   "cell_type": "code",
   "execution_count": 68,
   "id": "hungarian-ownership",
   "metadata": {
    "ExecuteTime": {
     "end_time": "2021-04-14T20:32:11.352643Z",
     "start_time": "2021-04-14T20:32:11.347646Z"
    }
   },
   "outputs": [],
   "source": [
    "import numpy as np\n",
    "\n",
    "from sklearn.model_selection import train_test_split\n",
    "from sklearn.metrics import accuracy_score\n",
    "import cv2\n",
    "\n",
    "import matplotlib.pyplot as plt\n",
    "from matplotlib import cm\n",
    "from matplotlib.colors import ListedColormap,LinearSegmentedColormap\n",
    "\n",
    "from tqdm import tqdm, trange\n",
    "import os"
   ]
  },
  {
   "cell_type": "markdown",
   "id": "loaded-reminder",
   "metadata": {},
   "source": [
    "## Utils"
   ]
  },
  {
   "cell_type": "code",
   "execution_count": 8,
   "id": "statewide-shark",
   "metadata": {
    "ExecuteTime": {
     "end_time": "2021-04-14T20:20:15.090934Z",
     "start_time": "2021-04-14T20:20:15.075723Z"
    }
   },
   "outputs": [],
   "source": [
    "def load_images_from_folder(folder, size = (256, 256), start = 0, end = 100000):\n",
    "    images = []\n",
    "    for filename in os.listdir(folder)[start:end]:\n",
    "        img = cv2.imread(os.path.join(folder,filename))\n",
    "        if img is not None:\n",
    "            img = cv2.resize(img, dsize = size)\n",
    "            img = cv2.cvtColor(img, cv2.COLOR_BGR2RGB)\n",
    "            images.append(img)\n",
    "    return np.array(images)"
   ]
  },
  {
   "cell_type": "markdown",
   "id": "corresponding-parts",
   "metadata": {},
   "source": [
    "## Perceptron"
   ]
  },
  {
   "cell_type": "code",
   "execution_count": 127,
   "id": "earned-basement",
   "metadata": {
    "ExecuteTime": {
     "end_time": "2021-04-14T20:49:02.805496Z",
     "start_time": "2021-04-14T20:49:02.794512Z"
    }
   },
   "outputs": [],
   "source": [
    "class Perceptron:\n",
    "    def __init__(self, dim=2, lr = 1, max_epochs = 1000 ):\n",
    "        self.w = np.zeros(dim)  # np.random.randn(dim)\n",
    "        self.b = np.ones(1)  # bias\n",
    "        self.max_epochs = max_epochs\n",
    "        self.lr = lr  # learning rate\n",
    "        self.dim = dim\n",
    "        \n",
    "    def fit(self, X, y):\n",
    "        assert X.shape[1:] == self.dim, f\"a sample in X must have the number of {self.dim} dimensions\"\n",
    "        assert X.shape[0] == y.shape[0], f\"different number of samples in the dataset and labels\"\n",
    "        \n",
    "        epoch = 0\n",
    "        while(True):\n",
    "            epoch+=1\n",
    "            m = 0  # counter too se if we got a sample wrong\n",
    "            for (xi, yi) in zip(X, y):\n",
    "                if yi * (self.w.T @ xi + self.b) <= 0:  # <- If we get a sample wrong\n",
    "                    self.w = self.w + self.lr * yi * xi  # <- We adjust the weight\n",
    "                    self.b = self.b + self.lr * yi  # <- and the bias\n",
    "                    m+=1  # <- count the wrong examples \n",
    "            if m == 0 or epoch == self.max_epochs:\n",
    "                # If we get no mistakes or we finish our epochs break\n",
    "                break\n",
    "    \n",
    "    def predict(self, X):\n",
    "        return np.array([1 if (self.w.T @ xi + self.b) >= 0 else -1 for xi in X])\n",
    "    \n",
    "    \n",
    "    def score(self, x, y):\n",
    "        pass"
   ]
  },
  {
   "cell_type": "markdown",
   "id": "increasing-breach",
   "metadata": {},
   "source": [
    "# Data"
   ]
  },
  {
   "cell_type": "code",
   "execution_count": 120,
   "id": "annoying-sierra",
   "metadata": {
    "ExecuteTime": {
     "end_time": "2021-04-14T20:48:38.713828Z",
     "start_time": "2021-04-14T20:48:38.706843Z"
    }
   },
   "outputs": [],
   "source": [
    "dir_aug1 = os.path.join('..', 'Lab4', 'datasets', 'money', '1_aug')\n",
    "dir_aug100 = os.path.join('..', 'Lab4', 'datasets', 'money', '100_aug')"
   ]
  },
  {
   "cell_type": "code",
   "execution_count": 83,
   "id": "legitimate-mandate",
   "metadata": {
    "ExecuteTime": {
     "end_time": "2021-04-14T20:39:10.871960Z",
     "start_time": "2021-04-14T20:39:07.210868Z"
    }
   },
   "outputs": [],
   "source": [
    "X1 = load_images_from_folder(dir_aug1, size=(128, 128))\n",
    "X100 = load_images_from_folder(dir_aug100, size = (128, 128))"
   ]
  },
  {
   "cell_type": "code",
   "execution_count": 84,
   "id": "chemical-string",
   "metadata": {
    "ExecuteTime": {
     "end_time": "2021-04-14T20:39:11.533686Z",
     "start_time": "2021-04-14T20:39:11.522676Z"
    }
   },
   "outputs": [],
   "source": [
    "y1 = np.ones(len(X1))\n",
    "y100 = -np.ones(len(X100))"
   ]
  },
  {
   "cell_type": "code",
   "execution_count": 125,
   "id": "global-garage",
   "metadata": {
    "ExecuteTime": {
     "end_time": "2021-04-14T20:48:55.556672Z",
     "start_time": "2021-04-14T20:48:55.491662Z"
    }
   },
   "outputs": [],
   "source": [
    "X = np.concatenate([X1, X100])\n",
    "y = np.concatenate([y1, y100])\n",
    "X = X.reshape((X.shape[0], np.prod(X.shape[1:])))"
   ]
  },
  {
   "cell_type": "code",
   "execution_count": 128,
   "id": "opened-revolution",
   "metadata": {
    "ExecuteTime": {
     "end_time": "2021-04-14T20:49:05.508684Z",
     "start_time": "2021-04-14T20:49:05.434686Z"
    }
   },
   "outputs": [],
   "source": [
    "X_train, X_test, y_train, y_test = train_test_split(X, y, test_size=0.2, random_state=420, shuffle=True)"
   ]
  },
  {
   "cell_type": "code",
   "execution_count": 129,
   "id": "peaceful-bachelor",
   "metadata": {
    "ExecuteTime": {
     "end_time": "2021-04-14T20:49:05.616763Z",
     "start_time": "2021-04-14T20:49:05.604754Z"
    }
   },
   "outputs": [],
   "source": [
    "perceptron = Perceptron(dim = X.shape[1:], lr = .2, max_epochs=1)"
   ]
  },
  {
   "cell_type": "code",
   "execution_count": 135,
   "id": "preceding-diving",
   "metadata": {
    "ExecuteTime": {
     "end_time": "2021-04-14T20:52:07.115351Z",
     "start_time": "2021-04-14T20:51:26.494848Z"
    }
   },
   "outputs": [
    {
     "name": "stderr",
     "output_type": "stream",
     "text": [
      "Accuracies: (1.0, 0.75): 100%|███████| 100/100 [00:40<00:00,  2.46it/s]\n"
     ]
    }
   ],
   "source": [
    "epochs = 100\n",
    "accs = []\n",
    "train_accs = []\n",
    "for epoch in (t:= trange(epochs)):\n",
    "    perceptron.fit(X_train, y_train)\n",
    "    \n",
    "    y_pred = perceptron.predict(X_test)\n",
    "    acc = accuracy_score(y_test, y_pred)\n",
    "    \n",
    "    y_pred = perceptron.predict(X_train)\n",
    "    tr_acc = accuracy_score(y_train, y_pred)\n",
    "    \n",
    "    train_accs.append(tr_acc)\n",
    "    accs.append(acc)\n",
    "    t.set_description(f\"Accuracies: {round(tr_acc, 2), round(acc, 2)}\")\n",
    "    "
   ]
  },
  {
   "cell_type": "code",
   "execution_count": 138,
   "id": "distributed-advertiser",
   "metadata": {
    "ExecuteTime": {
     "end_time": "2021-04-14T20:53:07.866708Z",
     "start_time": "2021-04-14T20:53:07.675721Z"
    }
   },
   "outputs": [
    {
     "data": {
      "image/png": "[encoded data removed]",
      "text/plain": [
       "<Figure size 720x504 with 1 Axes>"
      ]
     },
     "metadata": {
      "needs_background": "light"
     },
     "output_type": "display_data"
    }
   ],
   "source": [
    "plt.figure(figsize = (10, 7))\n",
    "\n",
    "plt.legend('Training')\n",
    "plt.legend('Test')\n",
    "plt.ylim(0, 1.1)\n",
    "plt.plot(train_accs)\n",
    "plt.plot(accs)\n",
    "plt.show()\n",
    "\n"
   ]
  },
  {
   "cell_type": "code",
   "execution_count": null,
   "id": "bored-christian",
   "metadata": {},
   "outputs": [],
   "source": []
  }
 ],
 "metadata": {
  "kernelspec": {
   "display_name": "Python 3",
   "language": "python",
   "name": "python3"
  },
  "language_info": {
   "codemirror_mode": {
    "name": "ipython",
    "version": 3
   },
   "file_extension": ".py",
   "mimetype": "text/x-python",
   "name": "python",
   "nbconvert_exporter": "python",
   "pygments_lexer": "ipython3",
   "version": "3.9.1"
  },
  "toc": {
   "base_numbering": 1,
   "nav_menu": {},
   "number_sections": true,
   "sideBar": true,
   "skip_h1_title": false,
   "title_cell": "Table of Contents",
   "title_sidebar": "Contents",
   "toc_cell": false,
   "toc_position": {},
   "toc_section_display": true,
   "toc_window_display": false
  }
 },
 "nbformat": 4,
 "nbformat_minor": 5
}
