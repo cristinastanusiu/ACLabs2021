{
 "cells": [
  {
   "cell_type": "code",
   "execution_count": 2,
   "id": "psychological-beads",
   "metadata": {
    "ExecuteTime": {
     "end_time": "2021-04-15T11:26:55.890547Z",
     "start_time": "2021-04-15T11:26:55.885557Z"
    }
   },
   "outputs": [],
   "source": [
    "# Numerical libs\n",
    "import numpy as np\n",
    "import pandas as pd\n",
    "\n",
    "# ML libs\n",
    "from sklearn.model_selection import train_test_split\n",
    "\n",
    "# Plotting libs\n",
    "import matplotlib.pyplot as plt\n",
    "import seaborn as sns\n",
    "# Utils"
   ]
  },
  {
   "cell_type": "markdown",
   "id": "suffering-audience",
   "metadata": {},
   "source": [
    "# Load data"
   ]
  },
  {
   "cell_type": "code",
   "execution_count": 3,
   "id": "elementary-brisbane",
   "metadata": {
    "ExecuteTime": {
     "end_time": "2021-04-15T11:40:11.561524Z",
     "start_time": "2021-04-15T11:40:11.489523Z"
    }
   },
   "outputs": [],
   "source": [
    "datafile = 'datasets/hypo/hypothyroid2.csv'\n",
    "df = pd.read_csv(datafile)"
   ]
  },
  {
   "cell_type": "code",
   "execution_count": 4,
   "id": "temporal-drain",
   "metadata": {
    "ExecuteTime": {
     "end_time": "2021-04-15T11:40:13.771772Z",
     "start_time": "2021-04-15T11:40:13.750422Z"
    }
   },
   "outputs": [
    {
     "data": {
      "text/plain": [
       "(3772, 30)"
      ]
     },
     "execution_count": 4,
     "metadata": {},
     "output_type": "execute_result"
    }
   ],
   "source": [
    "df.shape"
   ]
  },
  {
   "cell_type": "code",
   "execution_count": 7,
   "id": "exposed-longer",
   "metadata": {
    "ExecuteTime": {
     "end_time": "2021-04-15T11:54:26.183112Z",
     "start_time": "2021-04-15T11:54:26.137114Z"
    }
   },
   "outputs": [
    {
     "data": {
      "text/html": [
       "<div>\n",
       "<style scoped>\n",
       "    .dataframe tbody tr th:only-of-type {\n",
       "        vertical-align: middle;\n",
       "    }\n",
       "\n",
       "    .dataframe tbody tr th {\n",
       "        vertical-align: top;\n",
       "    }\n",
       "\n",
       "    .dataframe thead th {\n",
       "        text-align: right;\n",
       "    }\n",
       "</style>\n",
       "<table border=\"1\" class=\"dataframe\">\n",
       "  <thead>\n",
       "    <tr style=\"text-align: right;\">\n",
       "      <th></th>\n",
       "      <th>age</th>\n",
       "      <th>sex</th>\n",
       "      <th>on_thyroxine</th>\n",
       "      <th>query_on_thyroxine</th>\n",
       "      <th>on_antithyroid_medication</th>\n",
       "      <th>sick</th>\n",
       "      <th>pregnant</th>\n",
       "      <th>thyroid_surgery</th>\n",
       "      <th>I131_treatment</th>\n",
       "      <th>query_hypothyroid</th>\n",
       "      <th>...</th>\n",
       "      <th>TT4_measured</th>\n",
       "      <th>TT4</th>\n",
       "      <th>T4U_measured</th>\n",
       "      <th>T4U</th>\n",
       "      <th>FTI_measured</th>\n",
       "      <th>FTI</th>\n",
       "      <th>TBG_measured</th>\n",
       "      <th>TBG</th>\n",
       "      <th>referral_source</th>\n",
       "      <th>Class</th>\n",
       "    </tr>\n",
       "  </thead>\n",
       "  <tbody>\n",
       "    <tr>\n",
       "      <th>0</th>\n",
       "      <td>41.0</td>\n",
       "      <td>F</td>\n",
       "      <td>f</td>\n",
       "      <td>f</td>\n",
       "      <td>f</td>\n",
       "      <td>f</td>\n",
       "      <td>f</td>\n",
       "      <td>f</td>\n",
       "      <td>f</td>\n",
       "      <td>f</td>\n",
       "      <td>...</td>\n",
       "      <td>t</td>\n",
       "      <td>125.0</td>\n",
       "      <td>t</td>\n",
       "      <td>1.14</td>\n",
       "      <td>t</td>\n",
       "      <td>109.0</td>\n",
       "      <td>f</td>\n",
       "      <td>NaN</td>\n",
       "      <td>SVHC</td>\n",
       "      <td>negative</td>\n",
       "    </tr>\n",
       "    <tr>\n",
       "      <th>1</th>\n",
       "      <td>23.0</td>\n",
       "      <td>F</td>\n",
       "      <td>f</td>\n",
       "      <td>f</td>\n",
       "      <td>f</td>\n",
       "      <td>f</td>\n",
       "      <td>f</td>\n",
       "      <td>f</td>\n",
       "      <td>f</td>\n",
       "      <td>f</td>\n",
       "      <td>...</td>\n",
       "      <td>t</td>\n",
       "      <td>102.0</td>\n",
       "      <td>f</td>\n",
       "      <td>NaN</td>\n",
       "      <td>f</td>\n",
       "      <td>NaN</td>\n",
       "      <td>f</td>\n",
       "      <td>NaN</td>\n",
       "      <td>other</td>\n",
       "      <td>negative</td>\n",
       "    </tr>\n",
       "    <tr>\n",
       "      <th>2</th>\n",
       "      <td>46.0</td>\n",
       "      <td>M</td>\n",
       "      <td>f</td>\n",
       "      <td>f</td>\n",
       "      <td>f</td>\n",
       "      <td>f</td>\n",
       "      <td>f</td>\n",
       "      <td>f</td>\n",
       "      <td>f</td>\n",
       "      <td>f</td>\n",
       "      <td>...</td>\n",
       "      <td>t</td>\n",
       "      <td>109.0</td>\n",
       "      <td>t</td>\n",
       "      <td>0.91</td>\n",
       "      <td>t</td>\n",
       "      <td>120.0</td>\n",
       "      <td>f</td>\n",
       "      <td>NaN</td>\n",
       "      <td>other</td>\n",
       "      <td>negative</td>\n",
       "    </tr>\n",
       "    <tr>\n",
       "      <th>3</th>\n",
       "      <td>70.0</td>\n",
       "      <td>F</td>\n",
       "      <td>t</td>\n",
       "      <td>f</td>\n",
       "      <td>f</td>\n",
       "      <td>f</td>\n",
       "      <td>f</td>\n",
       "      <td>f</td>\n",
       "      <td>f</td>\n",
       "      <td>f</td>\n",
       "      <td>...</td>\n",
       "      <td>t</td>\n",
       "      <td>175.0</td>\n",
       "      <td>f</td>\n",
       "      <td>NaN</td>\n",
       "      <td>f</td>\n",
       "      <td>NaN</td>\n",
       "      <td>f</td>\n",
       "      <td>NaN</td>\n",
       "      <td>other</td>\n",
       "      <td>negative</td>\n",
       "    </tr>\n",
       "    <tr>\n",
       "      <th>4</th>\n",
       "      <td>70.0</td>\n",
       "      <td>F</td>\n",
       "      <td>f</td>\n",
       "      <td>f</td>\n",
       "      <td>f</td>\n",
       "      <td>f</td>\n",
       "      <td>f</td>\n",
       "      <td>f</td>\n",
       "      <td>f</td>\n",
       "      <td>f</td>\n",
       "      <td>...</td>\n",
       "      <td>t</td>\n",
       "      <td>61.0</td>\n",
       "      <td>t</td>\n",
       "      <td>0.87</td>\n",
       "      <td>t</td>\n",
       "      <td>70.0</td>\n",
       "      <td>f</td>\n",
       "      <td>NaN</td>\n",
       "      <td>SVI</td>\n",
       "      <td>negative</td>\n",
       "    </tr>\n",
       "  </tbody>\n",
       "</table>\n",
       "<p>5 rows × 30 columns</p>\n",
       "</div>"
      ],
      "text/plain": [
       "    age sex on_thyroxine query_on_thyroxine on_antithyroid_medication sick  \\\n",
       "0  41.0   F            f                  f                         f    f   \n",
       "1  23.0   F            f                  f                         f    f   \n",
       "2  46.0   M            f                  f                         f    f   \n",
       "3  70.0   F            t                  f                         f    f   \n",
       "4  70.0   F            f                  f                         f    f   \n",
       "\n",
       "  pregnant thyroid_surgery I131_treatment query_hypothyroid  ... TT4_measured  \\\n",
       "0        f               f              f                 f  ...            t   \n",
       "1        f               f              f                 f  ...            t   \n",
       "2        f               f              f                 f  ...            t   \n",
       "3        f               f              f                 f  ...            t   \n",
       "4        f               f              f                 f  ...            t   \n",
       "\n",
       "     TT4 T4U_measured   T4U FTI_measured    FTI TBG_measured  TBG  \\\n",
       "0  125.0            t  1.14            t  109.0            f  NaN   \n",
       "1  102.0            f   NaN            f    NaN            f  NaN   \n",
       "2  109.0            t  0.91            t  120.0            f  NaN   \n",
       "3  175.0            f   NaN            f    NaN            f  NaN   \n",
       "4   61.0            t  0.87            t   70.0            f  NaN   \n",
       "\n",
       "  referral_source     Class  \n",
       "0            SVHC  negative  \n",
       "1           other  negative  \n",
       "2           other  negative  \n",
       "3           other  negative  \n",
       "4             SVI  negative  \n",
       "\n",
       "[5 rows x 30 columns]"
      ]
     },
     "execution_count": 7,
     "metadata": {},
     "output_type": "execute_result"
    }
   ],
   "source": [
    "df.head(5)"
   ]
  },
  {
   "cell_type": "code",
   "execution_count": 11,
   "id": "clear-environment",
   "metadata": {
    "ExecuteTime": {
     "end_time": "2021-04-15T11:59:11.258099Z",
     "start_time": "2021-04-15T11:59:11.113602Z"
    }
   },
   "outputs": [
    {
     "data": {
      "text/html": [
       "<div>\n",
       "<style scoped>\n",
       "    .dataframe tbody tr th:only-of-type {\n",
       "        vertical-align: middle;\n",
       "    }\n",
       "\n",
       "    .dataframe tbody tr th {\n",
       "        vertical-align: top;\n",
       "    }\n",
       "\n",
       "    .dataframe thead th {\n",
       "        text-align: right;\n",
       "    }\n",
       "</style>\n",
       "<table border=\"1\" class=\"dataframe\">\n",
       "  <thead>\n",
       "    <tr style=\"text-align: right;\">\n",
       "      <th></th>\n",
       "      <th>age</th>\n",
       "      <th>TSH</th>\n",
       "      <th>T3</th>\n",
       "      <th>TT4</th>\n",
       "      <th>T4U</th>\n",
       "      <th>FTI</th>\n",
       "      <th>TBG</th>\n",
       "    </tr>\n",
       "  </thead>\n",
       "  <tbody>\n",
       "    <tr>\n",
       "      <th>count</th>\n",
       "      <td>3771.000000</td>\n",
       "      <td>3403.000000</td>\n",
       "      <td>3003.000000</td>\n",
       "      <td>3541.000000</td>\n",
       "      <td>3385.000000</td>\n",
       "      <td>3387.000000</td>\n",
       "      <td>0.0</td>\n",
       "    </tr>\n",
       "    <tr>\n",
       "      <th>mean</th>\n",
       "      <td>51.735879</td>\n",
       "      <td>5.086766</td>\n",
       "      <td>2.013500</td>\n",
       "      <td>108.319345</td>\n",
       "      <td>0.995000</td>\n",
       "      <td>110.469649</td>\n",
       "      <td>NaN</td>\n",
       "    </tr>\n",
       "    <tr>\n",
       "      <th>std</th>\n",
       "      <td>20.084958</td>\n",
       "      <td>24.521470</td>\n",
       "      <td>0.827434</td>\n",
       "      <td>35.604248</td>\n",
       "      <td>0.195457</td>\n",
       "      <td>33.089698</td>\n",
       "      <td>NaN</td>\n",
       "    </tr>\n",
       "    <tr>\n",
       "      <th>min</th>\n",
       "      <td>1.000000</td>\n",
       "      <td>0.005000</td>\n",
       "      <td>0.050000</td>\n",
       "      <td>2.000000</td>\n",
       "      <td>0.250000</td>\n",
       "      <td>2.000000</td>\n",
       "      <td>NaN</td>\n",
       "    </tr>\n",
       "    <tr>\n",
       "      <th>25%</th>\n",
       "      <td>36.000000</td>\n",
       "      <td>0.500000</td>\n",
       "      <td>1.600000</td>\n",
       "      <td>88.000000</td>\n",
       "      <td>0.880000</td>\n",
       "      <td>93.000000</td>\n",
       "      <td>NaN</td>\n",
       "    </tr>\n",
       "    <tr>\n",
       "      <th>50%</th>\n",
       "      <td>54.000000</td>\n",
       "      <td>1.400000</td>\n",
       "      <td>2.000000</td>\n",
       "      <td>103.000000</td>\n",
       "      <td>0.980000</td>\n",
       "      <td>107.000000</td>\n",
       "      <td>NaN</td>\n",
       "    </tr>\n",
       "    <tr>\n",
       "      <th>75%</th>\n",
       "      <td>67.000000</td>\n",
       "      <td>2.700000</td>\n",
       "      <td>2.400000</td>\n",
       "      <td>124.000000</td>\n",
       "      <td>1.080000</td>\n",
       "      <td>124.000000</td>\n",
       "      <td>NaN</td>\n",
       "    </tr>\n",
       "    <tr>\n",
       "      <th>max</th>\n",
       "      <td>455.000000</td>\n",
       "      <td>530.000000</td>\n",
       "      <td>10.600000</td>\n",
       "      <td>430.000000</td>\n",
       "      <td>2.320000</td>\n",
       "      <td>395.000000</td>\n",
       "      <td>NaN</td>\n",
       "    </tr>\n",
       "  </tbody>\n",
       "</table>\n",
       "</div>"
      ],
      "text/plain": [
       "               age          TSH           T3          TT4          T4U  \\\n",
       "count  3771.000000  3403.000000  3003.000000  3541.000000  3385.000000   \n",
       "mean     51.735879     5.086766     2.013500   108.319345     0.995000   \n",
       "std      20.084958    24.521470     0.827434    35.604248     0.195457   \n",
       "min       1.000000     0.005000     0.050000     2.000000     0.250000   \n",
       "25%      36.000000     0.500000     1.600000    88.000000     0.880000   \n",
       "50%      54.000000     1.400000     2.000000   103.000000     0.980000   \n",
       "75%      67.000000     2.700000     2.400000   124.000000     1.080000   \n",
       "max     455.000000   530.000000    10.600000   430.000000     2.320000   \n",
       "\n",
       "               FTI  TBG  \n",
       "count  3387.000000  0.0  \n",
       "mean    110.469649  NaN  \n",
       "std      33.089698  NaN  \n",
       "min       2.000000  NaN  \n",
       "25%      93.000000  NaN  \n",
       "50%     107.000000  NaN  \n",
       "75%     124.000000  NaN  \n",
       "max     395.000000  NaN  "
      ]
     },
     "execution_count": 11,
     "metadata": {},
     "output_type": "execute_result"
    }
   ],
   "source": [
    "df.describe()"
   ]
  },
  {
   "cell_type": "markdown",
   "id": "golden-producer",
   "metadata": {},
   "source": [
    "# Data preprocessing"
   ]
  },
  {
   "cell_type": "markdown",
   "id": "changed-engineer",
   "metadata": {
    "ExecuteTime": {
     "end_time": "2021-03-13T12:54:46.285704Z",
     "start_time": "2021-03-13T12:54:46.272693Z"
    }
   },
   "source": [
    "- https://en.wikipedia.org/wiki/Data_pre-processing\n",
    "- https://towardsdatascience.com/data-preprocessing-concepts-fa946d11c825\n",
    "- https://www.geeksforgeeks.org/data-preprocessing-in-data-mining/\n",
    "- https://www.youtube.com/watch?v=zVImIQuqjQ0&list=PLzH6n4zXuckpfMu_4Ff8E7Z1behQks5ba&index=5"
   ]
  },
  {
   "cell_type": "markdown",
   "id": "genetic-toner",
   "metadata": {},
   "source": [
    "**Data types**\n",
    "- Categorical (binary, multiple classes). Ex: days in a week, sex\n",
    "- Numerical (continuous, integer-valued). Ex: measurements, age\n",
    "\n",
    "**Problems with data**\n",
    "> Garbage in, garbage out\n",
    "\n",
    "- Usually the data is messy and problematic. We might get missing values, impossible values, duplicate values where it shouldn't happen etc. \n",
    "- It's our job to clean the data and prepare it for our model.\n",
    "- The better the data we feed to the model, the better the model will be"
   ]
  },
  {
   "cell_type": "markdown",
   "id": "collect-aviation",
   "metadata": {},
   "source": [
    "## Data cleaning"
   ]
  },
  {
   "cell_type": "markdown",
   "id": "antique-chest",
   "metadata": {},
   "source": [
    "### Human / Expert cleaning"
   ]
  },
  {
   "cell_type": "markdown",
   "id": "christian-enclosure",
   "metadata": {},
   "source": [
    "Usually the human can analyze the dataset and see if there is something wrong.\n",
    "\n",
    "- For example `age` shouldn't be an absurd number (such as 400) nor negative (-2).\n",
    "- `TTL` shouldn't be negative\n",
    "\n",
    "If we have domain knowledge we can use it to clear (drop rows) / replace these values."
   ]
  },
  {
   "cell_type": "code",
   "execution_count": 12,
   "id": "accurate-prompt",
   "metadata": {
    "ExecuteTime": {
     "end_time": "2021-04-15T11:59:12.828137Z",
     "start_time": "2021-04-15T11:59:12.776134Z"
    }
   },
   "outputs": [
    {
     "data": {
      "text/html": [
       "<div>\n",
       "<style scoped>\n",
       "    .dataframe tbody tr th:only-of-type {\n",
       "        vertical-align: middle;\n",
       "    }\n",
       "\n",
       "    .dataframe tbody tr th {\n",
       "        vertical-align: top;\n",
       "    }\n",
       "\n",
       "    .dataframe thead th {\n",
       "        text-align: right;\n",
       "    }\n",
       "</style>\n",
       "<table border=\"1\" class=\"dataframe\">\n",
       "  <thead>\n",
       "    <tr style=\"text-align: right;\">\n",
       "      <th></th>\n",
       "      <th>age</th>\n",
       "      <th>TSH</th>\n",
       "      <th>T3</th>\n",
       "      <th>TT4</th>\n",
       "      <th>T4U</th>\n",
       "      <th>FTI</th>\n",
       "      <th>TBG</th>\n",
       "    </tr>\n",
       "  </thead>\n",
       "  <tbody>\n",
       "    <tr>\n",
       "      <th>count</th>\n",
       "      <td>3771.000000</td>\n",
       "      <td>3403.000000</td>\n",
       "      <td>3003.000000</td>\n",
       "      <td>3541.000000</td>\n",
       "      <td>3385.000000</td>\n",
       "      <td>3387.000000</td>\n",
       "      <td>0.0</td>\n",
       "    </tr>\n",
       "    <tr>\n",
       "      <th>mean</th>\n",
       "      <td>51.735879</td>\n",
       "      <td>5.086766</td>\n",
       "      <td>2.013500</td>\n",
       "      <td>108.319345</td>\n",
       "      <td>0.995000</td>\n",
       "      <td>110.469649</td>\n",
       "      <td>NaN</td>\n",
       "    </tr>\n",
       "    <tr>\n",
       "      <th>std</th>\n",
       "      <td>20.084958</td>\n",
       "      <td>24.521470</td>\n",
       "      <td>0.827434</td>\n",
       "      <td>35.604248</td>\n",
       "      <td>0.195457</td>\n",
       "      <td>33.089698</td>\n",
       "      <td>NaN</td>\n",
       "    </tr>\n",
       "    <tr>\n",
       "      <th>min</th>\n",
       "      <td>1.000000</td>\n",
       "      <td>0.005000</td>\n",
       "      <td>0.050000</td>\n",
       "      <td>2.000000</td>\n",
       "      <td>0.250000</td>\n",
       "      <td>2.000000</td>\n",
       "      <td>NaN</td>\n",
       "    </tr>\n",
       "    <tr>\n",
       "      <th>25%</th>\n",
       "      <td>36.000000</td>\n",
       "      <td>0.500000</td>\n",
       "      <td>1.600000</td>\n",
       "      <td>88.000000</td>\n",
       "      <td>0.880000</td>\n",
       "      <td>93.000000</td>\n",
       "      <td>NaN</td>\n",
       "    </tr>\n",
       "    <tr>\n",
       "      <th>50%</th>\n",
       "      <td>54.000000</td>\n",
       "      <td>1.400000</td>\n",
       "      <td>2.000000</td>\n",
       "      <td>103.000000</td>\n",
       "      <td>0.980000</td>\n",
       "      <td>107.000000</td>\n",
       "      <td>NaN</td>\n",
       "    </tr>\n",
       "    <tr>\n",
       "      <th>75%</th>\n",
       "      <td>67.000000</td>\n",
       "      <td>2.700000</td>\n",
       "      <td>2.400000</td>\n",
       "      <td>124.000000</td>\n",
       "      <td>1.080000</td>\n",
       "      <td>124.000000</td>\n",
       "      <td>NaN</td>\n",
       "    </tr>\n",
       "    <tr>\n",
       "      <th>max</th>\n",
       "      <td>455.000000</td>\n",
       "      <td>530.000000</td>\n",
       "      <td>10.600000</td>\n",
       "      <td>430.000000</td>\n",
       "      <td>2.320000</td>\n",
       "      <td>395.000000</td>\n",
       "      <td>NaN</td>\n",
       "    </tr>\n",
       "  </tbody>\n",
       "</table>\n",
       "</div>"
      ],
      "text/plain": [
       "               age          TSH           T3          TT4          T4U  \\\n",
       "count  3771.000000  3403.000000  3003.000000  3541.000000  3385.000000   \n",
       "mean     51.735879     5.086766     2.013500   108.319345     0.995000   \n",
       "std      20.084958    24.521470     0.827434    35.604248     0.195457   \n",
       "min       1.000000     0.005000     0.050000     2.000000     0.250000   \n",
       "25%      36.000000     0.500000     1.600000    88.000000     0.880000   \n",
       "50%      54.000000     1.400000     2.000000   103.000000     0.980000   \n",
       "75%      67.000000     2.700000     2.400000   124.000000     1.080000   \n",
       "max     455.000000   530.000000    10.600000   430.000000     2.320000   \n",
       "\n",
       "               FTI  TBG  \n",
       "count  3387.000000  0.0  \n",
       "mean    110.469649  NaN  \n",
       "std      33.089698  NaN  \n",
       "min       2.000000  NaN  \n",
       "25%      93.000000  NaN  \n",
       "50%     107.000000  NaN  \n",
       "75%     124.000000  NaN  \n",
       "max     395.000000  NaN  "
      ]
     },
     "execution_count": 12,
     "metadata": {},
     "output_type": "execute_result"
    }
   ],
   "source": [
    "# We can see that our dataset contains ages that are too big. Let's clear these\n",
    "df.describe()"
   ]
  },
  {
   "cell_type": "code",
   "execution_count": 13,
   "id": "metropolitan-favor",
   "metadata": {
    "ExecuteTime": {
     "end_time": "2021-04-15T11:59:13.174130Z",
     "start_time": "2021-04-15T11:59:13.137130Z"
    }
   },
   "outputs": [
    {
     "data": {
      "text/html": [
       "<div>\n",
       "<style scoped>\n",
       "    .dataframe tbody tr th:only-of-type {\n",
       "        vertical-align: middle;\n",
       "    }\n",
       "\n",
       "    .dataframe tbody tr th {\n",
       "        vertical-align: top;\n",
       "    }\n",
       "\n",
       "    .dataframe thead th {\n",
       "        text-align: right;\n",
       "    }\n",
       "</style>\n",
       "<table border=\"1\" class=\"dataframe\">\n",
       "  <thead>\n",
       "    <tr style=\"text-align: right;\">\n",
       "      <th></th>\n",
       "      <th>age</th>\n",
       "      <th>sex</th>\n",
       "      <th>on_thyroxine</th>\n",
       "      <th>query_on_thyroxine</th>\n",
       "      <th>on_antithyroid_medication</th>\n",
       "      <th>sick</th>\n",
       "      <th>pregnant</th>\n",
       "      <th>thyroid_surgery</th>\n",
       "      <th>I131_treatment</th>\n",
       "      <th>query_hypothyroid</th>\n",
       "      <th>...</th>\n",
       "      <th>TT4_measured</th>\n",
       "      <th>TT4</th>\n",
       "      <th>T4U_measured</th>\n",
       "      <th>T4U</th>\n",
       "      <th>FTI_measured</th>\n",
       "      <th>FTI</th>\n",
       "      <th>TBG_measured</th>\n",
       "      <th>TBG</th>\n",
       "      <th>referral_source</th>\n",
       "      <th>Class</th>\n",
       "    </tr>\n",
       "  </thead>\n",
       "  <tbody>\n",
       "    <tr>\n",
       "      <th>1364</th>\n",
       "      <td>455.0</td>\n",
       "      <td>F</td>\n",
       "      <td>f</td>\n",
       "      <td>f</td>\n",
       "      <td>f</td>\n",
       "      <td>f</td>\n",
       "      <td>f</td>\n",
       "      <td>f</td>\n",
       "      <td>f</td>\n",
       "      <td>f</td>\n",
       "      <td>...</td>\n",
       "      <td>t</td>\n",
       "      <td>118.0</td>\n",
       "      <td>t</td>\n",
       "      <td>1.13</td>\n",
       "      <td>t</td>\n",
       "      <td>104.0</td>\n",
       "      <td>f</td>\n",
       "      <td>NaN</td>\n",
       "      <td>SVI</td>\n",
       "      <td>negative</td>\n",
       "    </tr>\n",
       "  </tbody>\n",
       "</table>\n",
       "<p>1 rows × 30 columns</p>\n",
       "</div>"
      ],
      "text/plain": [
       "        age sex on_thyroxine query_on_thyroxine on_antithyroid_medication  \\\n",
       "1364  455.0   F            f                  f                         f   \n",
       "\n",
       "     sick pregnant thyroid_surgery I131_treatment query_hypothyroid  ...  \\\n",
       "1364    f        f               f              f                 f  ...   \n",
       "\n",
       "     TT4_measured    TT4 T4U_measured   T4U FTI_measured    FTI TBG_measured  \\\n",
       "1364            t  118.0            t  1.13            t  104.0            f   \n",
       "\n",
       "      TBG referral_source     Class  \n",
       "1364  NaN             SVI  negative  \n",
       "\n",
       "[1 rows x 30 columns]"
      ]
     },
     "execution_count": 13,
     "metadata": {},
     "output_type": "execute_result"
    }
   ],
   "source": [
    "#Get the wrong values\n",
    "df[df['age'] > 100]"
   ]
  },
  {
   "cell_type": "code",
   "execution_count": 14,
   "id": "considered-melbourne",
   "metadata": {
    "ExecuteTime": {
     "end_time": "2021-04-15T11:59:26.771331Z",
     "start_time": "2021-04-15T11:59:26.752333Z"
    }
   },
   "outputs": [],
   "source": [
    "#drop them\n",
    "df = df.drop(df[df['age'] > 100].index)"
   ]
  },
  {
   "cell_type": "code",
   "execution_count": 15,
   "id": "plain-illinois",
   "metadata": {
    "ExecuteTime": {
     "end_time": "2021-04-15T11:59:28.399027Z",
     "start_time": "2021-04-15T11:59:28.363027Z"
    }
   },
   "outputs": [
    {
     "data": {
      "text/html": [
       "<div>\n",
       "<style scoped>\n",
       "    .dataframe tbody tr th:only-of-type {\n",
       "        vertical-align: middle;\n",
       "    }\n",
       "\n",
       "    .dataframe tbody tr th {\n",
       "        vertical-align: top;\n",
       "    }\n",
       "\n",
       "    .dataframe thead th {\n",
       "        text-align: right;\n",
       "    }\n",
       "</style>\n",
       "<table border=\"1\" class=\"dataframe\">\n",
       "  <thead>\n",
       "    <tr style=\"text-align: right;\">\n",
       "      <th></th>\n",
       "      <th>age</th>\n",
       "      <th>sex</th>\n",
       "      <th>on_thyroxine</th>\n",
       "      <th>query_on_thyroxine</th>\n",
       "      <th>on_antithyroid_medication</th>\n",
       "      <th>sick</th>\n",
       "      <th>pregnant</th>\n",
       "      <th>thyroid_surgery</th>\n",
       "      <th>I131_treatment</th>\n",
       "      <th>query_hypothyroid</th>\n",
       "      <th>...</th>\n",
       "      <th>TT4_measured</th>\n",
       "      <th>TT4</th>\n",
       "      <th>T4U_measured</th>\n",
       "      <th>T4U</th>\n",
       "      <th>FTI_measured</th>\n",
       "      <th>FTI</th>\n",
       "      <th>TBG_measured</th>\n",
       "      <th>TBG</th>\n",
       "      <th>referral_source</th>\n",
       "      <th>Class</th>\n",
       "    </tr>\n",
       "  </thead>\n",
       "  <tbody>\n",
       "  </tbody>\n",
       "</table>\n",
       "<p>0 rows × 30 columns</p>\n",
       "</div>"
      ],
      "text/plain": [
       "Empty DataFrame\n",
       "Columns: [age, sex, on_thyroxine, query_on_thyroxine, on_antithyroid_medication, sick, pregnant, thyroid_surgery, I131_treatment, query_hypothyroid, query_hyperthyroid, lithium, goitre, tumor, hypopituitary, psych, TSH_measured, TSH, T3_measured, T3, TT4_measured, TT4, T4U_measured, T4U, FTI_measured, FTI, TBG_measured, TBG, referral_source, Class]\n",
       "Index: []\n",
       "\n",
       "[0 rows x 30 columns]"
      ]
     },
     "execution_count": 15,
     "metadata": {},
     "output_type": "execute_result"
    }
   ],
   "source": [
    "df[df['age'] > 100]"
   ]
  },
  {
   "cell_type": "code",
   "execution_count": 62,
   "id": "indirect-witness",
   "metadata": {
    "ExecuteTime": {
     "end_time": "2021-03-17T15:59:15.780210Z",
     "start_time": "2021-03-17T15:59:15.777208Z"
    }
   },
   "outputs": [],
   "source": [
    "# TSH can be a maximum of 450. Drop the values above that"
   ]
  },
  {
   "cell_type": "code",
   "execution_count": 16,
   "id": "light-pendant",
   "metadata": {
    "ExecuteTime": {
     "end_time": "2021-04-15T11:59:49.306235Z",
     "start_time": "2021-04-15T11:59:49.288238Z"
    }
   },
   "outputs": [
    {
     "data": {
      "text/plain": [
       "1165    478.0\n",
       "2507    472.0\n",
       "2772    468.0\n",
       "3449    530.0\n",
       "Name: TSH, dtype: float64"
      ]
     },
     "execution_count": 16,
     "metadata": {},
     "output_type": "execute_result"
    }
   ],
   "source": [
    "df[df['TSH'] > 450]['TSH']"
   ]
  },
  {
   "cell_type": "code",
   "execution_count": 17,
   "id": "occasional-navigation",
   "metadata": {
    "ExecuteTime": {
     "end_time": "2021-04-15T11:59:57.372391Z",
     "start_time": "2021-04-15T11:59:57.331393Z"
    }
   },
   "outputs": [
    {
     "name": "stdout",
     "output_type": "stream",
     "text": [
      "(3771, 30)\n",
      "(3767, 30)\n"
     ]
    }
   ],
   "source": [
    "print(df.shape)\n",
    "df = df.drop(df[df['TSH'] > 450].index)\n",
    "print(df.shape)"
   ]
  },
  {
   "cell_type": "markdown",
   "id": "olive-gender",
   "metadata": {},
   "source": [
    "### Missing data"
   ]
  },
  {
   "cell_type": "markdown",
   "id": "ultimate-boring",
   "metadata": {},
   "source": [
    "Datasets might have some missing data in them. \n",
    "- When it comes to almost empty columns (features) we drop those. \n",
    "- When it comes to rows we have 2 options: \n",
    "    1. We drop the missing rows\n",
    "    2. We try to fill them\n",
    "\n",
    "Let's talk about filling the rows. *How should we fill them?*\n",
    "- Zero (not reccomended)\n",
    "- Estimate from the distribution \n",
    "- Mean\n",
    "- Median\n"
   ]
  },
  {
   "cell_type": "markdown",
   "id": "directed-young",
   "metadata": {},
   "source": [
    "#### Pandas methods to check for missing data"
   ]
  },
  {
   "cell_type": "code",
   "execution_count": 18,
   "id": "sustained-restriction",
   "metadata": {
    "ExecuteTime": {
     "end_time": "2021-04-15T12:04:04.970350Z",
     "start_time": "2021-04-15T12:04:04.913350Z"
    }
   },
   "outputs": [
    {
     "data": {
      "text/html": [
       "<div>\n",
       "<style scoped>\n",
       "    .dataframe tbody tr th:only-of-type {\n",
       "        vertical-align: middle;\n",
       "    }\n",
       "\n",
       "    .dataframe tbody tr th {\n",
       "        vertical-align: top;\n",
       "    }\n",
       "\n",
       "    .dataframe thead th {\n",
       "        text-align: right;\n",
       "    }\n",
       "</style>\n",
       "<table border=\"1\" class=\"dataframe\">\n",
       "  <thead>\n",
       "    <tr style=\"text-align: right;\">\n",
       "      <th></th>\n",
       "      <th>age</th>\n",
       "      <th>sex</th>\n",
       "      <th>on_thyroxine</th>\n",
       "      <th>query_on_thyroxine</th>\n",
       "      <th>on_antithyroid_medication</th>\n",
       "      <th>sick</th>\n",
       "      <th>pregnant</th>\n",
       "      <th>thyroid_surgery</th>\n",
       "      <th>I131_treatment</th>\n",
       "      <th>query_hypothyroid</th>\n",
       "      <th>...</th>\n",
       "      <th>TT4_measured</th>\n",
       "      <th>TT4</th>\n",
       "      <th>T4U_measured</th>\n",
       "      <th>T4U</th>\n",
       "      <th>FTI_measured</th>\n",
       "      <th>FTI</th>\n",
       "      <th>TBG_measured</th>\n",
       "      <th>TBG</th>\n",
       "      <th>referral_source</th>\n",
       "      <th>Class</th>\n",
       "    </tr>\n",
       "  </thead>\n",
       "  <tbody>\n",
       "    <tr>\n",
       "      <th>0</th>\n",
       "      <td>False</td>\n",
       "      <td>False</td>\n",
       "      <td>False</td>\n",
       "      <td>False</td>\n",
       "      <td>False</td>\n",
       "      <td>False</td>\n",
       "      <td>False</td>\n",
       "      <td>False</td>\n",
       "      <td>False</td>\n",
       "      <td>False</td>\n",
       "      <td>...</td>\n",
       "      <td>False</td>\n",
       "      <td>False</td>\n",
       "      <td>False</td>\n",
       "      <td>False</td>\n",
       "      <td>False</td>\n",
       "      <td>False</td>\n",
       "      <td>False</td>\n",
       "      <td>True</td>\n",
       "      <td>False</td>\n",
       "      <td>False</td>\n",
       "    </tr>\n",
       "    <tr>\n",
       "      <th>1</th>\n",
       "      <td>False</td>\n",
       "      <td>False</td>\n",
       "      <td>False</td>\n",
       "      <td>False</td>\n",
       "      <td>False</td>\n",
       "      <td>False</td>\n",
       "      <td>False</td>\n",
       "      <td>False</td>\n",
       "      <td>False</td>\n",
       "      <td>False</td>\n",
       "      <td>...</td>\n",
       "      <td>False</td>\n",
       "      <td>False</td>\n",
       "      <td>False</td>\n",
       "      <td>True</td>\n",
       "      <td>False</td>\n",
       "      <td>True</td>\n",
       "      <td>False</td>\n",
       "      <td>True</td>\n",
       "      <td>False</td>\n",
       "      <td>False</td>\n",
       "    </tr>\n",
       "    <tr>\n",
       "      <th>2</th>\n",
       "      <td>False</td>\n",
       "      <td>False</td>\n",
       "      <td>False</td>\n",
       "      <td>False</td>\n",
       "      <td>False</td>\n",
       "      <td>False</td>\n",
       "      <td>False</td>\n",
       "      <td>False</td>\n",
       "      <td>False</td>\n",
       "      <td>False</td>\n",
       "      <td>...</td>\n",
       "      <td>False</td>\n",
       "      <td>False</td>\n",
       "      <td>False</td>\n",
       "      <td>False</td>\n",
       "      <td>False</td>\n",
       "      <td>False</td>\n",
       "      <td>False</td>\n",
       "      <td>True</td>\n",
       "      <td>False</td>\n",
       "      <td>False</td>\n",
       "    </tr>\n",
       "    <tr>\n",
       "      <th>3</th>\n",
       "      <td>False</td>\n",
       "      <td>False</td>\n",
       "      <td>False</td>\n",
       "      <td>False</td>\n",
       "      <td>False</td>\n",
       "      <td>False</td>\n",
       "      <td>False</td>\n",
       "      <td>False</td>\n",
       "      <td>False</td>\n",
       "      <td>False</td>\n",
       "      <td>...</td>\n",
       "      <td>False</td>\n",
       "      <td>False</td>\n",
       "      <td>False</td>\n",
       "      <td>True</td>\n",
       "      <td>False</td>\n",
       "      <td>True</td>\n",
       "      <td>False</td>\n",
       "      <td>True</td>\n",
       "      <td>False</td>\n",
       "      <td>False</td>\n",
       "    </tr>\n",
       "    <tr>\n",
       "      <th>4</th>\n",
       "      <td>False</td>\n",
       "      <td>False</td>\n",
       "      <td>False</td>\n",
       "      <td>False</td>\n",
       "      <td>False</td>\n",
       "      <td>False</td>\n",
       "      <td>False</td>\n",
       "      <td>False</td>\n",
       "      <td>False</td>\n",
       "      <td>False</td>\n",
       "      <td>...</td>\n",
       "      <td>False</td>\n",
       "      <td>False</td>\n",
       "      <td>False</td>\n",
       "      <td>False</td>\n",
       "      <td>False</td>\n",
       "      <td>False</td>\n",
       "      <td>False</td>\n",
       "      <td>True</td>\n",
       "      <td>False</td>\n",
       "      <td>False</td>\n",
       "    </tr>\n",
       "    <tr>\n",
       "      <th>...</th>\n",
       "      <td>...</td>\n",
       "      <td>...</td>\n",
       "      <td>...</td>\n",
       "      <td>...</td>\n",
       "      <td>...</td>\n",
       "      <td>...</td>\n",
       "      <td>...</td>\n",
       "      <td>...</td>\n",
       "      <td>...</td>\n",
       "      <td>...</td>\n",
       "      <td>...</td>\n",
       "      <td>...</td>\n",
       "      <td>...</td>\n",
       "      <td>...</td>\n",
       "      <td>...</td>\n",
       "      <td>...</td>\n",
       "      <td>...</td>\n",
       "      <td>...</td>\n",
       "      <td>...</td>\n",
       "      <td>...</td>\n",
       "      <td>...</td>\n",
       "    </tr>\n",
       "    <tr>\n",
       "      <th>3767</th>\n",
       "      <td>False</td>\n",
       "      <td>False</td>\n",
       "      <td>False</td>\n",
       "      <td>False</td>\n",
       "      <td>False</td>\n",
       "      <td>False</td>\n",
       "      <td>False</td>\n",
       "      <td>False</td>\n",
       "      <td>False</td>\n",
       "      <td>False</td>\n",
       "      <td>...</td>\n",
       "      <td>False</td>\n",
       "      <td>True</td>\n",
       "      <td>False</td>\n",
       "      <td>True</td>\n",
       "      <td>False</td>\n",
       "      <td>True</td>\n",
       "      <td>False</td>\n",
       "      <td>True</td>\n",
       "      <td>False</td>\n",
       "      <td>False</td>\n",
       "    </tr>\n",
       "    <tr>\n",
       "      <th>3768</th>\n",
       "      <td>False</td>\n",
       "      <td>False</td>\n",
       "      <td>False</td>\n",
       "      <td>False</td>\n",
       "      <td>False</td>\n",
       "      <td>False</td>\n",
       "      <td>False</td>\n",
       "      <td>False</td>\n",
       "      <td>False</td>\n",
       "      <td>False</td>\n",
       "      <td>...</td>\n",
       "      <td>False</td>\n",
       "      <td>False</td>\n",
       "      <td>False</td>\n",
       "      <td>False</td>\n",
       "      <td>False</td>\n",
       "      <td>False</td>\n",
       "      <td>False</td>\n",
       "      <td>True</td>\n",
       "      <td>False</td>\n",
       "      <td>False</td>\n",
       "    </tr>\n",
       "    <tr>\n",
       "      <th>3769</th>\n",
       "      <td>False</td>\n",
       "      <td>False</td>\n",
       "      <td>False</td>\n",
       "      <td>False</td>\n",
       "      <td>False</td>\n",
       "      <td>False</td>\n",
       "      <td>False</td>\n",
       "      <td>False</td>\n",
       "      <td>False</td>\n",
       "      <td>False</td>\n",
       "      <td>...</td>\n",
       "      <td>False</td>\n",
       "      <td>False</td>\n",
       "      <td>False</td>\n",
       "      <td>False</td>\n",
       "      <td>False</td>\n",
       "      <td>False</td>\n",
       "      <td>False</td>\n",
       "      <td>True</td>\n",
       "      <td>False</td>\n",
       "      <td>False</td>\n",
       "    </tr>\n",
       "    <tr>\n",
       "      <th>3770</th>\n",
       "      <td>False</td>\n",
       "      <td>False</td>\n",
       "      <td>False</td>\n",
       "      <td>False</td>\n",
       "      <td>False</td>\n",
       "      <td>False</td>\n",
       "      <td>False</td>\n",
       "      <td>False</td>\n",
       "      <td>False</td>\n",
       "      <td>False</td>\n",
       "      <td>...</td>\n",
       "      <td>False</td>\n",
       "      <td>False</td>\n",
       "      <td>False</td>\n",
       "      <td>False</td>\n",
       "      <td>False</td>\n",
       "      <td>False</td>\n",
       "      <td>False</td>\n",
       "      <td>True</td>\n",
       "      <td>False</td>\n",
       "      <td>False</td>\n",
       "    </tr>\n",
       "    <tr>\n",
       "      <th>3771</th>\n",
       "      <td>False</td>\n",
       "      <td>False</td>\n",
       "      <td>False</td>\n",
       "      <td>False</td>\n",
       "      <td>False</td>\n",
       "      <td>False</td>\n",
       "      <td>False</td>\n",
       "      <td>False</td>\n",
       "      <td>False</td>\n",
       "      <td>False</td>\n",
       "      <td>...</td>\n",
       "      <td>False</td>\n",
       "      <td>False</td>\n",
       "      <td>False</td>\n",
       "      <td>False</td>\n",
       "      <td>False</td>\n",
       "      <td>False</td>\n",
       "      <td>False</td>\n",
       "      <td>True</td>\n",
       "      <td>False</td>\n",
       "      <td>False</td>\n",
       "    </tr>\n",
       "  </tbody>\n",
       "</table>\n",
       "<p>3767 rows × 30 columns</p>\n",
       "</div>"
      ],
      "text/plain": [
       "        age    sex  on_thyroxine  query_on_thyroxine  \\\n",
       "0     False  False         False               False   \n",
       "1     False  False         False               False   \n",
       "2     False  False         False               False   \n",
       "3     False  False         False               False   \n",
       "4     False  False         False               False   \n",
       "...     ...    ...           ...                 ...   \n",
       "3767  False  False         False               False   \n",
       "3768  False  False         False               False   \n",
       "3769  False  False         False               False   \n",
       "3770  False  False         False               False   \n",
       "3771  False  False         False               False   \n",
       "\n",
       "      on_antithyroid_medication   sick  pregnant  thyroid_surgery  \\\n",
       "0                         False  False     False            False   \n",
       "1                         False  False     False            False   \n",
       "2                         False  False     False            False   \n",
       "3                         False  False     False            False   \n",
       "4                         False  False     False            False   \n",
       "...                         ...    ...       ...              ...   \n",
       "3767                      False  False     False            False   \n",
       "3768                      False  False     False            False   \n",
       "3769                      False  False     False            False   \n",
       "3770                      False  False     False            False   \n",
       "3771                      False  False     False            False   \n",
       "\n",
       "      I131_treatment  query_hypothyroid  ...  TT4_measured    TT4  \\\n",
       "0              False              False  ...         False  False   \n",
       "1              False              False  ...         False  False   \n",
       "2              False              False  ...         False  False   \n",
       "3              False              False  ...         False  False   \n",
       "4              False              False  ...         False  False   \n",
       "...              ...                ...  ...           ...    ...   \n",
       "3767           False              False  ...         False   True   \n",
       "3768           False              False  ...         False  False   \n",
       "3769           False              False  ...         False  False   \n",
       "3770           False              False  ...         False  False   \n",
       "3771           False              False  ...         False  False   \n",
       "\n",
       "      T4U_measured    T4U  FTI_measured    FTI  TBG_measured   TBG  \\\n",
       "0            False  False         False  False         False  True   \n",
       "1            False   True         False   True         False  True   \n",
       "2            False  False         False  False         False  True   \n",
       "3            False   True         False   True         False  True   \n",
       "4            False  False         False  False         False  True   \n",
       "...            ...    ...           ...    ...           ...   ...   \n",
       "3767         False   True         False   True         False  True   \n",
       "3768         False  False         False  False         False  True   \n",
       "3769         False  False         False  False         False  True   \n",
       "3770         False  False         False  False         False  True   \n",
       "3771         False  False         False  False         False  True   \n",
       "\n",
       "      referral_source  Class  \n",
       "0               False  False  \n",
       "1               False  False  \n",
       "2               False  False  \n",
       "3               False  False  \n",
       "4               False  False  \n",
       "...               ...    ...  \n",
       "3767            False  False  \n",
       "3768            False  False  \n",
       "3769            False  False  \n",
       "3770            False  False  \n",
       "3771            False  False  \n",
       "\n",
       "[3767 rows x 30 columns]"
      ]
     },
     "execution_count": 18,
     "metadata": {},
     "output_type": "execute_result"
    }
   ],
   "source": [
    "df.isna() # Or df.isnull()"
   ]
  },
  {
   "cell_type": "code",
   "execution_count": 66,
   "id": "spanish-continent",
   "metadata": {
    "ExecuteTime": {
     "end_time": "2021-03-17T15:59:17.404340Z",
     "start_time": "2021-03-17T15:59:17.385341Z"
    }
   },
   "outputs": [
    {
     "data": {
      "text/plain": [
       "True"
      ]
     },
     "execution_count": 66,
     "metadata": {},
     "output_type": "execute_result"
    }
   ],
   "source": [
    "np.all(df.isna() == df.isnull())"
   ]
  },
  {
   "cell_type": "code",
   "execution_count": 19,
   "id": "received-tanzania",
   "metadata": {
    "ExecuteTime": {
     "end_time": "2021-04-15T12:04:28.583259Z",
     "start_time": "2021-04-15T12:04:28.552259Z"
    }
   },
   "outputs": [
    {
     "data": {
      "text/plain": [
       "age                             1\n",
       "sex                           149\n",
       "on_thyroxine                    0\n",
       "query_on_thyroxine              0\n",
       "on_antithyroid_medication       0\n",
       "sick                            0\n",
       "pregnant                        0\n",
       "thyroid_surgery                 0\n",
       "I131_treatment                  0\n",
       "query_hypothyroid               0\n",
       "query_hyperthyroid              0\n",
       "lithium                         0\n",
       "goitre                          0\n",
       "tumor                           0\n",
       "hypopituitary                   0\n",
       "psych                           0\n",
       "TSH_measured                    0\n",
       "TSH                           369\n",
       "T3_measured                     0\n",
       "T3                            768\n",
       "TT4_measured                    0\n",
       "TT4                           231\n",
       "T4U_measured                    0\n",
       "T4U                           387\n",
       "FTI_measured                    0\n",
       "FTI                           385\n",
       "TBG_measured                    0\n",
       "TBG                          3767\n",
       "referral_source                 0\n",
       "Class                           0\n",
       "dtype: int64"
      ]
     },
     "execution_count": 19,
     "metadata": {},
     "output_type": "execute_result"
    }
   ],
   "source": [
    "# Let's get the missing values / feature\n",
    "df.isna().sum()"
   ]
  },
  {
   "cell_type": "code",
   "execution_count": 20,
   "id": "premier-cabin",
   "metadata": {
    "ExecuteTime": {
     "end_time": "2021-04-15T12:04:47.555803Z",
     "start_time": "2021-04-15T12:04:47.544815Z"
    }
   },
   "outputs": [],
   "source": [
    "# We can see that TBG columns is almost empty so let's drop it\n",
    "df = df.drop(['TBG'], axis = 1)"
   ]
  },
  {
   "cell_type": "code",
   "execution_count": 21,
   "id": "different-marshall",
   "metadata": {
    "ExecuteTime": {
     "end_time": "2021-04-15T12:05:20.207998Z",
     "start_time": "2021-04-15T12:05:20.192992Z"
    }
   },
   "outputs": [
    {
     "name": "stdout",
     "output_type": "stream",
     "text": [
      "(3767, 29)\n",
      "(3618, 29)\n"
     ]
    }
   ],
   "source": [
    "# Let's drop the rows that don't have the sex attribute since we can't fill them\n",
    "\n",
    "# https://pandas.pydata.org/pandas-docs/stable/reference/api/pandas.DataFrame.dropna.html\n",
    "print(df.shape)\n",
    "df = df.dropna(subset = ['sex'])\n",
    "print(df.shape)"
   ]
  },
  {
   "cell_type": "code",
   "execution_count": 22,
   "id": "every-emission",
   "metadata": {
    "ExecuteTime": {
     "end_time": "2021-04-15T12:05:32.871127Z",
     "start_time": "2021-04-15T12:05:32.808139Z"
    }
   },
   "outputs": [],
   "source": [
    "# We shall fill the rest\n",
    "\n",
    "# https://pandas.pydata.org/pandas-docs/stable/reference/api/pandas.DataFrame.fillna.html\n",
    "df = df.fillna(df.mean())"
   ]
  },
  {
   "cell_type": "code",
   "execution_count": 23,
   "id": "congressional-guyana",
   "metadata": {
    "ExecuteTime": {
     "end_time": "2021-04-15T12:05:37.514619Z",
     "start_time": "2021-04-15T12:05:37.492614Z"
    }
   },
   "outputs": [
    {
     "data": {
      "text/plain": [
       "age                          0\n",
       "sex                          0\n",
       "on_thyroxine                 0\n",
       "query_on_thyroxine           0\n",
       "on_antithyroid_medication    0\n",
       "sick                         0\n",
       "pregnant                     0\n",
       "thyroid_surgery              0\n",
       "I131_treatment               0\n",
       "query_hypothyroid            0\n",
       "query_hyperthyroid           0\n",
       "lithium                      0\n",
       "goitre                       0\n",
       "tumor                        0\n",
       "hypopituitary                0\n",
       "psych                        0\n",
       "TSH_measured                 0\n",
       "TSH                          0\n",
       "T3_measured                  0\n",
       "T3                           0\n",
       "TT4_measured                 0\n",
       "TT4                          0\n",
       "T4U_measured                 0\n",
       "T4U                          0\n",
       "FTI_measured                 0\n",
       "FTI                          0\n",
       "TBG_measured                 0\n",
       "referral_source              0\n",
       "Class                        0\n",
       "dtype: int64"
      ]
     },
     "execution_count": 23,
     "metadata": {},
     "output_type": "execute_result"
    }
   ],
   "source": [
    "df.isna().sum()"
   ]
  },
  {
   "cell_type": "code",
   "execution_count": 24,
   "id": "expired-client",
   "metadata": {
    "ExecuteTime": {
     "end_time": "2021-04-15T12:05:53.191699Z",
     "start_time": "2021-04-15T12:05:53.159691Z"
    }
   },
   "outputs": [
    {
     "data": {
      "text/plain": [
       "(1142, 2476)"
      ]
     },
     "execution_count": 24,
     "metadata": {},
     "output_type": "execute_result"
    }
   ],
   "source": [
    "sum(df['sex'] == 'M'), sum(df['sex'] == 'F')"
   ]
  },
  {
   "cell_type": "code",
   "execution_count": 73,
   "id": "knowing-fence",
   "metadata": {
    "ExecuteTime": {
     "end_time": "2021-03-17T15:59:21.449346Z",
     "start_time": "2021-03-17T15:59:21.420345Z"
    }
   },
   "outputs": [
    {
     "data": {
      "text/html": [
       "<div>\n",
       "<style scoped>\n",
       "    .dataframe tbody tr th:only-of-type {\n",
       "        vertical-align: middle;\n",
       "    }\n",
       "\n",
       "    .dataframe tbody tr th {\n",
       "        vertical-align: top;\n",
       "    }\n",
       "\n",
       "    .dataframe thead th {\n",
       "        text-align: right;\n",
       "    }\n",
       "</style>\n",
       "<table border=\"1\" class=\"dataframe\">\n",
       "  <thead>\n",
       "    <tr style=\"text-align: right;\">\n",
       "      <th></th>\n",
       "      <th>age</th>\n",
       "      <th>sex</th>\n",
       "      <th>on_thyroxine</th>\n",
       "      <th>query_on_thyroxine</th>\n",
       "      <th>on_antithyroid_medication</th>\n",
       "      <th>sick</th>\n",
       "      <th>pregnant</th>\n",
       "      <th>thyroid_surgery</th>\n",
       "      <th>I131_treatment</th>\n",
       "      <th>query_hypothyroid</th>\n",
       "      <th>...</th>\n",
       "      <th>T3</th>\n",
       "      <th>TT4_measured</th>\n",
       "      <th>TT4</th>\n",
       "      <th>T4U_measured</th>\n",
       "      <th>T4U</th>\n",
       "      <th>FTI_measured</th>\n",
       "      <th>FTI</th>\n",
       "      <th>TBG_measured</th>\n",
       "      <th>referral_source</th>\n",
       "      <th>Class</th>\n",
       "    </tr>\n",
       "  </thead>\n",
       "  <tbody>\n",
       "    <tr>\n",
       "      <th>0</th>\n",
       "      <td>41.0</td>\n",
       "      <td>F</td>\n",
       "      <td>f</td>\n",
       "      <td>f</td>\n",
       "      <td>f</td>\n",
       "      <td>f</td>\n",
       "      <td>f</td>\n",
       "      <td>f</td>\n",
       "      <td>f</td>\n",
       "      <td>f</td>\n",
       "      <td>...</td>\n",
       "      <td>2.500000</td>\n",
       "      <td>t</td>\n",
       "      <td>125.0</td>\n",
       "      <td>t</td>\n",
       "      <td>1.14000</td>\n",
       "      <td>t</td>\n",
       "      <td>109.000000</td>\n",
       "      <td>f</td>\n",
       "      <td>SVHC</td>\n",
       "      <td>negative</td>\n",
       "    </tr>\n",
       "    <tr>\n",
       "      <th>1</th>\n",
       "      <td>23.0</td>\n",
       "      <td>F</td>\n",
       "      <td>f</td>\n",
       "      <td>f</td>\n",
       "      <td>f</td>\n",
       "      <td>f</td>\n",
       "      <td>f</td>\n",
       "      <td>f</td>\n",
       "      <td>f</td>\n",
       "      <td>f</td>\n",
       "      <td>...</td>\n",
       "      <td>2.000000</td>\n",
       "      <td>t</td>\n",
       "      <td>102.0</td>\n",
       "      <td>f</td>\n",
       "      <td>0.99531</td>\n",
       "      <td>f</td>\n",
       "      <td>110.357701</td>\n",
       "      <td>f</td>\n",
       "      <td>other</td>\n",
       "      <td>negative</td>\n",
       "    </tr>\n",
       "    <tr>\n",
       "      <th>2</th>\n",
       "      <td>46.0</td>\n",
       "      <td>M</td>\n",
       "      <td>f</td>\n",
       "      <td>f</td>\n",
       "      <td>f</td>\n",
       "      <td>f</td>\n",
       "      <td>f</td>\n",
       "      <td>f</td>\n",
       "      <td>f</td>\n",
       "      <td>f</td>\n",
       "      <td>...</td>\n",
       "      <td>2.011113</td>\n",
       "      <td>t</td>\n",
       "      <td>109.0</td>\n",
       "      <td>t</td>\n",
       "      <td>0.91000</td>\n",
       "      <td>t</td>\n",
       "      <td>120.000000</td>\n",
       "      <td>f</td>\n",
       "      <td>other</td>\n",
       "      <td>negative</td>\n",
       "    </tr>\n",
       "    <tr>\n",
       "      <th>3</th>\n",
       "      <td>70.0</td>\n",
       "      <td>F</td>\n",
       "      <td>t</td>\n",
       "      <td>f</td>\n",
       "      <td>f</td>\n",
       "      <td>f</td>\n",
       "      <td>f</td>\n",
       "      <td>f</td>\n",
       "      <td>f</td>\n",
       "      <td>f</td>\n",
       "      <td>...</td>\n",
       "      <td>1.900000</td>\n",
       "      <td>t</td>\n",
       "      <td>175.0</td>\n",
       "      <td>f</td>\n",
       "      <td>0.99531</td>\n",
       "      <td>f</td>\n",
       "      <td>110.357701</td>\n",
       "      <td>f</td>\n",
       "      <td>other</td>\n",
       "      <td>negative</td>\n",
       "    </tr>\n",
       "    <tr>\n",
       "      <th>4</th>\n",
       "      <td>70.0</td>\n",
       "      <td>F</td>\n",
       "      <td>f</td>\n",
       "      <td>f</td>\n",
       "      <td>f</td>\n",
       "      <td>f</td>\n",
       "      <td>f</td>\n",
       "      <td>f</td>\n",
       "      <td>f</td>\n",
       "      <td>f</td>\n",
       "      <td>...</td>\n",
       "      <td>1.200000</td>\n",
       "      <td>t</td>\n",
       "      <td>61.0</td>\n",
       "      <td>t</td>\n",
       "      <td>0.87000</td>\n",
       "      <td>t</td>\n",
       "      <td>70.000000</td>\n",
       "      <td>f</td>\n",
       "      <td>SVI</td>\n",
       "      <td>negative</td>\n",
       "    </tr>\n",
       "  </tbody>\n",
       "</table>\n",
       "<p>5 rows × 29 columns</p>\n",
       "</div>"
      ],
      "text/plain": [
       "    age sex on_thyroxine query_on_thyroxine on_antithyroid_medication sick  \\\n",
       "0  41.0   F            f                  f                         f    f   \n",
       "1  23.0   F            f                  f                         f    f   \n",
       "2  46.0   M            f                  f                         f    f   \n",
       "3  70.0   F            t                  f                         f    f   \n",
       "4  70.0   F            f                  f                         f    f   \n",
       "\n",
       "  pregnant thyroid_surgery I131_treatment query_hypothyroid  ...        T3  \\\n",
       "0        f               f              f                 f  ...  2.500000   \n",
       "1        f               f              f                 f  ...  2.000000   \n",
       "2        f               f              f                 f  ...  2.011113   \n",
       "3        f               f              f                 f  ...  1.900000   \n",
       "4        f               f              f                 f  ...  1.200000   \n",
       "\n",
       "  TT4_measured    TT4 T4U_measured      T4U FTI_measured         FTI  \\\n",
       "0            t  125.0            t  1.14000            t  109.000000   \n",
       "1            t  102.0            f  0.99531            f  110.357701   \n",
       "2            t  109.0            t  0.91000            t  120.000000   \n",
       "3            t  175.0            f  0.99531            f  110.357701   \n",
       "4            t   61.0            t  0.87000            t   70.000000   \n",
       "\n",
       "   TBG_measured referral_source     Class  \n",
       "0             f            SVHC  negative  \n",
       "1             f           other  negative  \n",
       "2             f           other  negative  \n",
       "3             f           other  negative  \n",
       "4             f             SVI  negative  \n",
       "\n",
       "[5 rows x 29 columns]"
      ]
     },
     "execution_count": 73,
     "metadata": {},
     "output_type": "execute_result"
    }
   ],
   "source": [
    "df.head()"
   ]
  },
  {
   "cell_type": "markdown",
   "id": "amino-croatia",
   "metadata": {},
   "source": [
    "## Encoding"
   ]
  },
  {
   "cell_type": "markdown",
   "id": "present-immunology",
   "metadata": {},
   "source": [
    "Data usually comes in 2 types\n",
    "1. Numerical data $\\to$ Continuous variables\n",
    "2. Categorical data $\\to$ Discrete variables\n",
    "    - 2 Classes $\\to$ Binary data\n",
    "    - Multiple classes\n",
    "\n",
    "Sometimes we need to encode this data to numerical data for our algorithm to eat it"
   ]
  },
  {
   "cell_type": "markdown",
   "id": "dangerous-description",
   "metadata": {},
   "source": [
    "### Ordinal Encoding"
   ]
  },
  {
   "cell_type": "markdown",
   "id": "lonely-latvia",
   "metadata": {},
   "source": [
    "Each category will get its own number\n",
    "`['value0', 'value1', 'value2', 'value0', 'value2'] -> [0, 1, 2, 0, 2]`\n",
    "\n",
    "**Pros and cons**\n",
    "- $+$ Simple, short\n",
    "- $-$ The variables are mapped from a space with no order $\\to$ a space with order (The number line)\n",
    "    - This may make some algorithms interpret it as such\n",
    "    - It might not be a true representation of data\n",
    "    \n",
    "Examples: \n",
    "- Price: `[cheap, affordable, expensive] ->  [0, 1, 2]` is a good representation\n",
    "- Animal type: `[mammal, insect, bird]` -> [0, 1, 2]` is not a good one"
   ]
  },
  {
   "cell_type": "code",
   "execution_count": 25,
   "id": "checked-depression",
   "metadata": {
    "ExecuteTime": {
     "end_time": "2021-04-15T12:08:10.906347Z",
     "start_time": "2021-04-15T12:08:10.900347Z"
    }
   },
   "outputs": [],
   "source": [
    "from sklearn.preprocessing import OrdinalEncoder"
   ]
  },
  {
   "cell_type": "code",
   "execution_count": 26,
   "id": "unlikely-clone",
   "metadata": {
    "ExecuteTime": {
     "end_time": "2021-04-15T12:08:12.058162Z",
     "start_time": "2021-04-15T12:08:12.038185Z"
    }
   },
   "outputs": [
    {
     "data": {
      "text/plain": [
       "[array(['F', 'M'], dtype=object)]"
      ]
     },
     "execution_count": 26,
     "metadata": {},
     "output_type": "execute_result"
    }
   ],
   "source": [
    "enc = OrdinalEncoder()\n",
    "enc.fit(df[['sex']])\n",
    "enc.categories_"
   ]
  },
  {
   "cell_type": "code",
   "execution_count": 89,
   "id": "amber-keyboard",
   "metadata": {
    "ExecuteTime": {
     "end_time": "2021-03-17T16:17:59.463821Z",
     "start_time": "2021-03-17T16:17:59.441829Z"
    }
   },
   "outputs": [
    {
     "data": {
      "text/plain": [
       "array([[0.],\n",
       "       [0.],\n",
       "       [1.],\n",
       "       ...,\n",
       "       [0.],\n",
       "       [1.],\n",
       "       [0.]])"
      ]
     },
     "execution_count": 89,
     "metadata": {},
     "output_type": "execute_result"
    }
   ],
   "source": [
    "enc.transform(df[['sex']])"
   ]
  },
  {
   "cell_type": "markdown",
   "id": "resistant-temperature",
   "metadata": {},
   "source": [
    "### One-hot encoding"
   ]
  },
  {
   "cell_type": "markdown",
   "id": "atmospheric-little",
   "metadata": {},
   "source": [
    "Each variable will be encoded with an array of 0s and a 1 that represents the category\n",
    "```\n",
    "['value0', 'value1', 'value2', 'value0', 'value2'] -> \n",
    "[1, 0, 0]\n",
    "[0, 1, 0]\n",
    "[0, 0, 1]\n",
    "[1, 0, 0]\n",
    "[0, 0, 1]\n",
    "```\n",
    "\n",
    "**Pros and cons**\n",
    "- $+$ Simple\n",
    "- $+$ Keeps the variables separated\n",
    "- $-$  expensive -> big dimensions\n",
    "- $\\pm$ Sparse (depends on algorithm)\n"
   ]
  },
  {
   "cell_type": "code",
   "execution_count": 27,
   "id": "authorized-abraham",
   "metadata": {
    "ExecuteTime": {
     "end_time": "2021-04-15T12:09:27.530674Z",
     "start_time": "2021-04-15T12:09:27.523674Z"
    }
   },
   "outputs": [
    {
     "data": {
      "text/plain": [
       "[array(['F', 'M'], dtype=object)]"
      ]
     },
     "execution_count": 27,
     "metadata": {},
     "output_type": "execute_result"
    }
   ],
   "source": [
    "from sklearn.preprocessing import OneHotEncoder\n",
    "\n",
    "enc = OneHotEncoder()\n",
    "enc.fit(df[['sex']])\n",
    "enc.categories_"
   ]
  },
  {
   "cell_type": "code",
   "execution_count": 28,
   "id": "loving-congo",
   "metadata": {
    "ExecuteTime": {
     "end_time": "2021-04-15T12:09:28.307082Z",
     "start_time": "2021-04-15T12:09:28.297082Z"
    }
   },
   "outputs": [
    {
     "data": {
      "text/plain": [
       "<3618x2 sparse matrix of type '<class 'numpy.float64'>'\n",
       "\twith 3618 stored elements in Compressed Sparse Row format>"
      ]
     },
     "execution_count": 28,
     "metadata": {},
     "output_type": "execute_result"
    }
   ],
   "source": [
    "enc.transform(df[['sex']])"
   ]
  },
  {
   "cell_type": "markdown",
   "id": "patent-complexity",
   "metadata": {},
   "source": [
    "### Back to our data"
   ]
  },
  {
   "cell_type": "code",
   "execution_count": 29,
   "id": "sitting-anderson",
   "metadata": {
    "ExecuteTime": {
     "end_time": "2021-04-15T12:09:47.431445Z",
     "start_time": "2021-04-15T12:09:47.353448Z"
    }
   },
   "outputs": [
    {
     "name": "stdout",
     "output_type": "stream",
     "text": [
      "sex ['F' 'M']\n",
      "on_thyroxine ['f' 't']\n",
      "query_on_thyroxine ['f' 't']\n",
      "on_antithyroid_medication ['f' 't']\n",
      "sick ['f' 't']\n",
      "pregnant ['f' 't']\n",
      "thyroid_surgery ['f' 't']\n",
      "I131_treatment ['f' 't']\n",
      "query_hypothyroid ['f' 't']\n",
      "query_hyperthyroid ['f' 't']\n",
      "lithium ['f' 't']\n",
      "goitre ['f' 't']\n",
      "tumor ['f' 't']\n",
      "hypopituitary ['f' 't']\n",
      "psych ['f' 't']\n",
      "TSH_measured ['f' 't']\n",
      "T3_measured ['f' 't']\n",
      "TT4_measured ['f' 't']\n",
      "T4U_measured ['f' 't']\n",
      "FTI_measured ['f' 't']\n",
      "TBG_measured ['f']\n",
      "referral_source ['STMW' 'SVHC' 'SVHD' 'SVI' 'other']\n",
      "Class ['compensated_hypothyroid' 'negative' 'primary_hypothyroid'\n",
      " 'secondary_hypothyroid']\n"
     ]
    }
   ],
   "source": [
    "for feature in df:\n",
    "    if df[feature].dtype != 'float64':\n",
    "        print(feature, np.unique(df[feature]))\n"
   ]
  },
  {
   "cell_type": "code",
   "execution_count": 30,
   "id": "searching-butler",
   "metadata": {
    "ExecuteTime": {
     "end_time": "2021-04-15T12:09:54.801017Z",
     "start_time": "2021-04-15T12:09:54.793017Z"
    }
   },
   "outputs": [],
   "source": [
    "# Let's drop the referral source and TBG measures since they seem to be meaningless\n",
    "df = df.drop(['TBG_measured', 'referral_source'], axis = 1)"
   ]
  },
  {
   "cell_type": "code",
   "execution_count": 31,
   "id": "registered-object",
   "metadata": {
    "ExecuteTime": {
     "end_time": "2021-04-15T12:09:57.738754Z",
     "start_time": "2021-04-15T12:09:57.720748Z"
    }
   },
   "outputs": [],
   "source": [
    "df_enc = df.copy()"
   ]
  },
  {
   "cell_type": "code",
   "execution_count": 32,
   "id": "moving-least",
   "metadata": {
    "ExecuteTime": {
     "end_time": "2021-04-15T12:10:14.606696Z",
     "start_time": "2021-04-15T12:10:14.515697Z"
    }
   },
   "outputs": [],
   "source": [
    "for feature in df_enc:\n",
    "    if df_enc[feature].dtype != 'float64':\n",
    "        enc = OrdinalEncoder()\n",
    "        df_enc[feature] = enc.fit_transform(df_enc[[feature]])"
   ]
  },
  {
   "cell_type": "code",
   "execution_count": 33,
   "id": "danish-invitation",
   "metadata": {
    "ExecuteTime": {
     "end_time": "2021-04-15T12:10:31.116536Z",
     "start_time": "2021-04-15T12:10:14.975695Z"
    }
   },
   "outputs": [
    {
     "data": {
      "text/html": [
       "<div>\n",
       "<style scoped>\n",
       "    .dataframe tbody tr th:only-of-type {\n",
       "        vertical-align: middle;\n",
       "    }\n",
       "\n",
       "    .dataframe tbody tr th {\n",
       "        vertical-align: top;\n",
       "    }\n",
       "\n",
       "    .dataframe thead th {\n",
       "        text-align: right;\n",
       "    }\n",
       "</style>\n",
       "<table border=\"1\" class=\"dataframe\">\n",
       "  <thead>\n",
       "    <tr style=\"text-align: right;\">\n",
       "      <th></th>\n",
       "      <th>age</th>\n",
       "      <th>sex</th>\n",
       "      <th>on_thyroxine</th>\n",
       "      <th>query_on_thyroxine</th>\n",
       "      <th>on_antithyroid_medication</th>\n",
       "      <th>sick</th>\n",
       "      <th>pregnant</th>\n",
       "      <th>thyroid_surgery</th>\n",
       "      <th>I131_treatment</th>\n",
       "      <th>query_hypothyroid</th>\n",
       "      <th>...</th>\n",
       "      <th>TSH</th>\n",
       "      <th>T3_measured</th>\n",
       "      <th>T3</th>\n",
       "      <th>TT4_measured</th>\n",
       "      <th>TT4</th>\n",
       "      <th>T4U_measured</th>\n",
       "      <th>T4U</th>\n",
       "      <th>FTI_measured</th>\n",
       "      <th>FTI</th>\n",
       "      <th>Class</th>\n",
       "    </tr>\n",
       "  </thead>\n",
       "  <tbody>\n",
       "    <tr>\n",
       "      <th>0</th>\n",
       "      <td>41.0</td>\n",
       "      <td>0.0</td>\n",
       "      <td>0.0</td>\n",
       "      <td>0.0</td>\n",
       "      <td>0.0</td>\n",
       "      <td>0.0</td>\n",
       "      <td>0.0</td>\n",
       "      <td>0.0</td>\n",
       "      <td>0.0</td>\n",
       "      <td>0.0</td>\n",
       "      <td>...</td>\n",
       "      <td>1.30</td>\n",
       "      <td>1.0</td>\n",
       "      <td>2.500000</td>\n",
       "      <td>1.0</td>\n",
       "      <td>125.0</td>\n",
       "      <td>1.0</td>\n",
       "      <td>1.14000</td>\n",
       "      <td>1.0</td>\n",
       "      <td>109.000000</td>\n",
       "      <td>1.0</td>\n",
       "    </tr>\n",
       "    <tr>\n",
       "      <th>1</th>\n",
       "      <td>23.0</td>\n",
       "      <td>0.0</td>\n",
       "      <td>0.0</td>\n",
       "      <td>0.0</td>\n",
       "      <td>0.0</td>\n",
       "      <td>0.0</td>\n",
       "      <td>0.0</td>\n",
       "      <td>0.0</td>\n",
       "      <td>0.0</td>\n",
       "      <td>0.0</td>\n",
       "      <td>...</td>\n",
       "      <td>4.10</td>\n",
       "      <td>1.0</td>\n",
       "      <td>2.000000</td>\n",
       "      <td>1.0</td>\n",
       "      <td>102.0</td>\n",
       "      <td>0.0</td>\n",
       "      <td>0.99531</td>\n",
       "      <td>0.0</td>\n",
       "      <td>110.357701</td>\n",
       "      <td>1.0</td>\n",
       "    </tr>\n",
       "    <tr>\n",
       "      <th>2</th>\n",
       "      <td>46.0</td>\n",
       "      <td>1.0</td>\n",
       "      <td>0.0</td>\n",
       "      <td>0.0</td>\n",
       "      <td>0.0</td>\n",
       "      <td>0.0</td>\n",
       "      <td>0.0</td>\n",
       "      <td>0.0</td>\n",
       "      <td>0.0</td>\n",
       "      <td>0.0</td>\n",
       "      <td>...</td>\n",
       "      <td>0.98</td>\n",
       "      <td>0.0</td>\n",
       "      <td>2.011113</td>\n",
       "      <td>1.0</td>\n",
       "      <td>109.0</td>\n",
       "      <td>1.0</td>\n",
       "      <td>0.91000</td>\n",
       "      <td>1.0</td>\n",
       "      <td>120.000000</td>\n",
       "      <td>1.0</td>\n",
       "    </tr>\n",
       "    <tr>\n",
       "      <th>3</th>\n",
       "      <td>70.0</td>\n",
       "      <td>0.0</td>\n",
       "      <td>1.0</td>\n",
       "      <td>0.0</td>\n",
       "      <td>0.0</td>\n",
       "      <td>0.0</td>\n",
       "      <td>0.0</td>\n",
       "      <td>0.0</td>\n",
       "      <td>0.0</td>\n",
       "      <td>0.0</td>\n",
       "      <td>...</td>\n",
       "      <td>0.16</td>\n",
       "      <td>1.0</td>\n",
       "      <td>1.900000</td>\n",
       "      <td>1.0</td>\n",
       "      <td>175.0</td>\n",
       "      <td>0.0</td>\n",
       "      <td>0.99531</td>\n",
       "      <td>0.0</td>\n",
       "      <td>110.357701</td>\n",
       "      <td>1.0</td>\n",
       "    </tr>\n",
       "    <tr>\n",
       "      <th>4</th>\n",
       "      <td>70.0</td>\n",
       "      <td>0.0</td>\n",
       "      <td>0.0</td>\n",
       "      <td>0.0</td>\n",
       "      <td>0.0</td>\n",
       "      <td>0.0</td>\n",
       "      <td>0.0</td>\n",
       "      <td>0.0</td>\n",
       "      <td>0.0</td>\n",
       "      <td>0.0</td>\n",
       "      <td>...</td>\n",
       "      <td>0.72</td>\n",
       "      <td>1.0</td>\n",
       "      <td>1.200000</td>\n",
       "      <td>1.0</td>\n",
       "      <td>61.0</td>\n",
       "      <td>1.0</td>\n",
       "      <td>0.87000</td>\n",
       "      <td>1.0</td>\n",
       "      <td>70.000000</td>\n",
       "      <td>1.0</td>\n",
       "    </tr>\n",
       "  </tbody>\n",
       "</table>\n",
       "<p>5 rows × 27 columns</p>\n",
       "</div>"
      ],
      "text/plain": [
       "    age  sex  on_thyroxine  query_on_thyroxine  on_antithyroid_medication  \\\n",
       "0  41.0  0.0           0.0                 0.0                        0.0   \n",
       "1  23.0  0.0           0.0                 0.0                        0.0   \n",
       "2  46.0  1.0           0.0                 0.0                        0.0   \n",
       "3  70.0  0.0           1.0                 0.0                        0.0   \n",
       "4  70.0  0.0           0.0                 0.0                        0.0   \n",
       "\n",
       "   sick  pregnant  thyroid_surgery  I131_treatment  query_hypothyroid  ...  \\\n",
       "0   0.0       0.0              0.0             0.0                0.0  ...   \n",
       "1   0.0       0.0              0.0             0.0                0.0  ...   \n",
       "2   0.0       0.0              0.0             0.0                0.0  ...   \n",
       "3   0.0       0.0              0.0             0.0                0.0  ...   \n",
       "4   0.0       0.0              0.0             0.0                0.0  ...   \n",
       "\n",
       "    TSH  T3_measured        T3  TT4_measured    TT4  T4U_measured      T4U  \\\n",
       "0  1.30          1.0  2.500000           1.0  125.0           1.0  1.14000   \n",
       "1  4.10          1.0  2.000000           1.0  102.0           0.0  0.99531   \n",
       "2  0.98          0.0  2.011113           1.0  109.0           1.0  0.91000   \n",
       "3  0.16          1.0  1.900000           1.0  175.0           0.0  0.99531   \n",
       "4  0.72          1.0  1.200000           1.0   61.0           1.0  0.87000   \n",
       "\n",
       "   FTI_measured         FTI  Class  \n",
       "0           1.0  109.000000    1.0  \n",
       "1           0.0  110.357701    1.0  \n",
       "2           1.0  120.000000    1.0  \n",
       "3           0.0  110.357701    1.0  \n",
       "4           1.0   70.000000    1.0  \n",
       "\n",
       "[5 rows x 27 columns]"
      ]
     },
     "execution_count": 33,
     "metadata": {},
     "output_type": "execute_result"
    }
   ],
   "source": [
    "df_enc.head()"
   ]
  },
  {
   "cell_type": "markdown",
   "id": "opposite-addiction",
   "metadata": {},
   "source": [
    "# Feature selection"
   ]
  },
  {
   "cell_type": "markdown",
   "id": "gentle-navigation",
   "metadata": {},
   "source": [
    "## Tree"
   ]
  },
  {
   "cell_type": "code",
   "execution_count": 34,
   "id": "strange-dominant",
   "metadata": {
    "ExecuteTime": {
     "end_time": "2021-04-15T12:11:07.122698Z",
     "start_time": "2021-04-15T12:11:06.397189Z"
    }
   },
   "outputs": [],
   "source": [
    "from sklearn.tree import DecisionTreeClassifier"
   ]
  },
  {
   "cell_type": "code",
   "execution_count": 35,
   "id": "rough-address",
   "metadata": {
    "ExecuteTime": {
     "end_time": "2021-04-15T12:11:07.975995Z",
     "start_time": "2021-04-15T12:11:07.928987Z"
    }
   },
   "outputs": [
    {
     "data": {
      "text/plain": [
       "DecisionTreeClassifier(random_state=420)"
      ]
     },
     "execution_count": 35,
     "metadata": {},
     "output_type": "execute_result"
    }
   ],
   "source": [
    "X = df_enc.drop(['Class'], axis = 1)\n",
    "y = df_enc['Class'] # the target value are the class columns\n",
    "\n",
    "tree = DecisionTreeClassifier(random_state=420) \n",
    "tree.fit(X, y)"
   ]
  },
  {
   "cell_type": "code",
   "execution_count": 36,
   "id": "finnish-debate",
   "metadata": {
    "ExecuteTime": {
     "end_time": "2021-04-15T12:11:08.651501Z",
     "start_time": "2021-04-15T12:11:08.632500Z"
    }
   },
   "outputs": [
    {
     "data": {
      "text/html": [
       "<div>\n",
       "<style scoped>\n",
       "    .dataframe tbody tr th:only-of-type {\n",
       "        vertical-align: middle;\n",
       "    }\n",
       "\n",
       "    .dataframe tbody tr th {\n",
       "        vertical-align: top;\n",
       "    }\n",
       "\n",
       "    .dataframe thead th {\n",
       "        text-align: right;\n",
       "    }\n",
       "</style>\n",
       "<table border=\"1\" class=\"dataframe\">\n",
       "  <thead>\n",
       "    <tr style=\"text-align: right;\">\n",
       "      <th></th>\n",
       "      <th>feature_names</th>\n",
       "      <th>feature_importance</th>\n",
       "    </tr>\n",
       "  </thead>\n",
       "  <tbody>\n",
       "    <tr>\n",
       "      <th>17</th>\n",
       "      <td>TSH</td>\n",
       "      <td>0.591264</td>\n",
       "    </tr>\n",
       "    <tr>\n",
       "      <th>25</th>\n",
       "      <td>FTI</td>\n",
       "      <td>0.177275</td>\n",
       "    </tr>\n",
       "    <tr>\n",
       "      <th>2</th>\n",
       "      <td>on_thyroxine</td>\n",
       "      <td>0.132206</td>\n",
       "    </tr>\n",
       "    <tr>\n",
       "      <th>21</th>\n",
       "      <td>TT4</td>\n",
       "      <td>0.042333</td>\n",
       "    </tr>\n",
       "    <tr>\n",
       "      <th>7</th>\n",
       "      <td>thyroid_surgery</td>\n",
       "      <td>0.030891</td>\n",
       "    </tr>\n",
       "    <tr>\n",
       "      <th>19</th>\n",
       "      <td>T3</td>\n",
       "      <td>0.008398</td>\n",
       "    </tr>\n",
       "    <tr>\n",
       "      <th>20</th>\n",
       "      <td>TT4_measured</td>\n",
       "      <td>0.004998</td>\n",
       "    </tr>\n",
       "    <tr>\n",
       "      <th>23</th>\n",
       "      <td>T4U</td>\n",
       "      <td>0.003818</td>\n",
       "    </tr>\n",
       "    <tr>\n",
       "      <th>0</th>\n",
       "      <td>age</td>\n",
       "      <td>0.003699</td>\n",
       "    </tr>\n",
       "    <tr>\n",
       "      <th>9</th>\n",
       "      <td>query_hypothyroid</td>\n",
       "      <td>0.002559</td>\n",
       "    </tr>\n",
       "    <tr>\n",
       "      <th>18</th>\n",
       "      <td>T3_measured</td>\n",
       "      <td>0.002559</td>\n",
       "    </tr>\n",
       "  </tbody>\n",
       "</table>\n",
       "</div>"
      ],
      "text/plain": [
       "        feature_names  feature_importance\n",
       "17                TSH            0.591264\n",
       "25                FTI            0.177275\n",
       "2        on_thyroxine            0.132206\n",
       "21                TT4            0.042333\n",
       "7     thyroid_surgery            0.030891\n",
       "19                 T3            0.008398\n",
       "20       TT4_measured            0.004998\n",
       "23                T4U            0.003818\n",
       "0                 age            0.003699\n",
       "9   query_hypothyroid            0.002559\n",
       "18        T3_measured            0.002559"
      ]
     },
     "execution_count": 36,
     "metadata": {},
     "output_type": "execute_result"
    }
   ],
   "source": [
    "fimp_df = pd.DataFrame({\"feature_names\": X.columns, \"feature_importance\": tree.feature_importances_}).sort_values(by = \"feature_importance\", ascending=False)\n",
    "\n",
    "fimp_df[fimp_df['feature_importance'] > 10e-5]"
   ]
  },
  {
   "cell_type": "markdown",
   "id": "junior-liechtenstein",
   "metadata": {},
   "source": [
    "## K best"
   ]
  },
  {
   "cell_type": "markdown",
   "id": "infectious-strip",
   "metadata": {},
   "source": [
    "**Chi2**\n",
    "- https://www.youtube.com/watch?v=2QeDRsxSF9M"
   ]
  },
  {
   "cell_type": "code",
   "execution_count": 37,
   "id": "fifty-workstation",
   "metadata": {
    "ExecuteTime": {
     "end_time": "2021-04-15T12:11:18.892436Z",
     "start_time": "2021-04-15T12:11:18.762441Z"
    }
   },
   "outputs": [],
   "source": [
    "from sklearn.feature_selection import SelectKBest, chi2"
   ]
  },
  {
   "cell_type": "code",
   "execution_count": 38,
   "id": "canadian-privacy",
   "metadata": {
    "ExecuteTime": {
     "end_time": "2021-04-15T12:11:19.189444Z",
     "start_time": "2021-04-15T12:11:19.177440Z"
    }
   },
   "outputs": [],
   "source": [
    "X = df_enc.drop(['Class'], axis = 1)\n",
    "y = df_enc['Class'] # the target value are the class columns"
   ]
  },
  {
   "cell_type": "code",
   "execution_count": 39,
   "id": "third-simpson",
   "metadata": {
    "ExecuteTime": {
     "end_time": "2021-04-15T12:11:22.559542Z",
     "start_time": "2021-04-15T12:11:22.193312Z"
    }
   },
   "outputs": [
    {
     "data": {
      "text/plain": [
       "SelectKBest(k=3, score_func=<function chi2 at 0x000001D48814D280>)"
      ]
     },
     "execution_count": 39,
     "metadata": {},
     "output_type": "execute_result"
    }
   ],
   "source": [
    "selector = SelectKBest(chi2, k=3)\n",
    "selector.fit(X, y)"
   ]
  },
  {
   "cell_type": "code",
   "execution_count": 40,
   "id": "linear-adventure",
   "metadata": {
    "ExecuteTime": {
     "end_time": "2021-04-15T12:11:23.420096Z",
     "start_time": "2021-04-15T12:11:23.378096Z"
    }
   },
   "outputs": [
    {
     "data": {
      "text/html": [
       "<div>\n",
       "<style scoped>\n",
       "    .dataframe tbody tr th:only-of-type {\n",
       "        vertical-align: middle;\n",
       "    }\n",
       "\n",
       "    .dataframe tbody tr th {\n",
       "        vertical-align: top;\n",
       "    }\n",
       "\n",
       "    .dataframe thead th {\n",
       "        text-align: right;\n",
       "    }\n",
       "</style>\n",
       "<table border=\"1\" class=\"dataframe\">\n",
       "  <thead>\n",
       "    <tr style=\"text-align: right;\">\n",
       "      <th></th>\n",
       "      <th>TSH</th>\n",
       "      <th>TT4</th>\n",
       "      <th>FTI</th>\n",
       "    </tr>\n",
       "  </thead>\n",
       "  <tbody>\n",
       "    <tr>\n",
       "      <th>0</th>\n",
       "      <td>1.300000</td>\n",
       "      <td>125.000000</td>\n",
       "      <td>109.000000</td>\n",
       "    </tr>\n",
       "    <tr>\n",
       "      <th>1</th>\n",
       "      <td>4.100000</td>\n",
       "      <td>102.000000</td>\n",
       "      <td>110.357701</td>\n",
       "    </tr>\n",
       "    <tr>\n",
       "      <th>2</th>\n",
       "      <td>0.980000</td>\n",
       "      <td>109.000000</td>\n",
       "      <td>120.000000</td>\n",
       "    </tr>\n",
       "    <tr>\n",
       "      <th>3</th>\n",
       "      <td>0.160000</td>\n",
       "      <td>175.000000</td>\n",
       "      <td>110.357701</td>\n",
       "    </tr>\n",
       "    <tr>\n",
       "      <th>4</th>\n",
       "      <td>0.720000</td>\n",
       "      <td>61.000000</td>\n",
       "      <td>70.000000</td>\n",
       "    </tr>\n",
       "    <tr>\n",
       "      <th>...</th>\n",
       "      <td>...</td>\n",
       "      <td>...</td>\n",
       "      <td>...</td>\n",
       "    </tr>\n",
       "    <tr>\n",
       "      <th>3767</th>\n",
       "      <td>4.558648</td>\n",
       "      <td>108.274566</td>\n",
       "      <td>110.357701</td>\n",
       "    </tr>\n",
       "    <tr>\n",
       "      <th>3768</th>\n",
       "      <td>1.000000</td>\n",
       "      <td>124.000000</td>\n",
       "      <td>114.000000</td>\n",
       "    </tr>\n",
       "    <tr>\n",
       "      <th>3769</th>\n",
       "      <td>5.100000</td>\n",
       "      <td>112.000000</td>\n",
       "      <td>105.000000</td>\n",
       "    </tr>\n",
       "    <tr>\n",
       "      <th>3770</th>\n",
       "      <td>0.700000</td>\n",
       "      <td>82.000000</td>\n",
       "      <td>87.000000</td>\n",
       "    </tr>\n",
       "    <tr>\n",
       "      <th>3771</th>\n",
       "      <td>1.000000</td>\n",
       "      <td>99.000000</td>\n",
       "      <td>92.000000</td>\n",
       "    </tr>\n",
       "  </tbody>\n",
       "</table>\n",
       "<p>3618 rows × 3 columns</p>\n",
       "</div>"
      ],
      "text/plain": [
       "           TSH         TT4         FTI\n",
       "0     1.300000  125.000000  109.000000\n",
       "1     4.100000  102.000000  110.357701\n",
       "2     0.980000  109.000000  120.000000\n",
       "3     0.160000  175.000000  110.357701\n",
       "4     0.720000   61.000000   70.000000\n",
       "...        ...         ...         ...\n",
       "3767  4.558648  108.274566  110.357701\n",
       "3768  1.000000  124.000000  114.000000\n",
       "3769  5.100000  112.000000  105.000000\n",
       "3770  0.700000   82.000000   87.000000\n",
       "3771  1.000000   99.000000   92.000000\n",
       "\n",
       "[3618 rows x 3 columns]"
      ]
     },
     "execution_count": 40,
     "metadata": {},
     "output_type": "execute_result"
    }
   ],
   "source": [
    "X_new = X.iloc[:, selector.get_support(indices=True)]\n",
    "X_new"
   ]
  },
  {
   "cell_type": "markdown",
   "id": "structural-hungary",
   "metadata": {},
   "source": [
    "### Test the selected features"
   ]
  },
  {
   "cell_type": "code",
   "execution_count": 41,
   "id": "religious-upgrade",
   "metadata": {
    "ExecuteTime": {
     "end_time": "2021-04-15T12:11:41.561073Z",
     "start_time": "2021-04-15T12:11:41.553081Z"
    }
   },
   "outputs": [],
   "source": [
    "from sklearn.linear_model import LogisticRegression"
   ]
  },
  {
   "cell_type": "code",
   "execution_count": 42,
   "id": "common-youth",
   "metadata": {
    "ExecuteTime": {
     "end_time": "2021-04-15T12:11:41.935072Z",
     "start_time": "2021-04-15T12:11:41.874081Z"
    }
   },
   "outputs": [],
   "source": [
    "X_train, X_test, y_train, y_test = train_test_split(X, y, test_size=0.33, random_state=420)\n",
    "X2_train, X2_test, y2_train, y2_test = train_test_split(X_new, y, test_size=0.33, random_state=420)"
   ]
  },
  {
   "cell_type": "code",
   "execution_count": 43,
   "id": "musical-singles",
   "metadata": {
    "ExecuteTime": {
     "end_time": "2021-04-15T12:11:42.281590Z",
     "start_time": "2021-04-15T12:11:42.273590Z"
    }
   },
   "outputs": [
    {
     "data": {
      "text/plain": [
       "True"
      ]
     },
     "execution_count": 43,
     "metadata": {},
     "output_type": "execute_result"
    }
   ],
   "source": [
    "np.all(X_train.index == X2_train.index)"
   ]
  },
  {
   "cell_type": "code",
   "execution_count": 44,
   "id": "civil-textbook",
   "metadata": {
    "ExecuteTime": {
     "end_time": "2021-04-15T12:11:46.701450Z",
     "start_time": "2021-04-15T12:11:46.020924Z"
    }
   },
   "outputs": [
    {
     "name": "stderr",
     "output_type": "stream",
     "text": [
      "g:\\conda3\\envs\\pytorch_env\\lib\\site-packages\\sklearn\\linear_model\\_logistic.py:763: ConvergenceWarning: lbfgs failed to converge (status=1):\n",
      "STOP: TOTAL NO. of ITERATIONS REACHED LIMIT.\n",
      "\n",
      "Increase the number of iterations (max_iter) or scale the data as shown in:\n",
      "    https://scikit-learn.org/stable/modules/preprocessing.html\n",
      "Please also refer to the documentation for alternative solver options:\n",
      "    https://scikit-learn.org/stable/modules/linear_model.html#logistic-regression\n",
      "  n_iter_i = _check_optimize_result(\n",
      "g:\\conda3\\envs\\pytorch_env\\lib\\site-packages\\sklearn\\linear_model\\_logistic.py:763: ConvergenceWarning: lbfgs failed to converge (status=1):\n",
      "STOP: TOTAL NO. of ITERATIONS REACHED LIMIT.\n",
      "\n",
      "Increase the number of iterations (max_iter) or scale the data as shown in:\n",
      "    https://scikit-learn.org/stable/modules/preprocessing.html\n",
      "Please also refer to the documentation for alternative solver options:\n",
      "    https://scikit-learn.org/stable/modules/linear_model.html#logistic-regression\n",
      "  n_iter_i = _check_optimize_result(\n"
     ]
    },
    {
     "data": {
      "text/plain": [
       "LogisticRegression(random_state=420)"
      ]
     },
     "execution_count": 44,
     "metadata": {},
     "output_type": "execute_result"
    }
   ],
   "source": [
    "reg1 = LogisticRegression(random_state=420)\n",
    "reg1.fit(X_train, y_train)\n",
    "\n",
    "reg2 = LogisticRegression(random_state=420)\n",
    "reg2.fit(X2_train, y2_train)"
   ]
  },
  {
   "cell_type": "code",
   "execution_count": 45,
   "id": "married-adoption",
   "metadata": {
    "ExecuteTime": {
     "end_time": "2021-04-15T12:11:48.168478Z",
     "start_time": "2021-04-15T12:11:48.141481Z"
    }
   },
   "outputs": [
    {
     "name": "stdout",
     "output_type": "stream",
     "text": [
      "Accuracy with all features: 0.9463986599664992\n",
      "Accuracy with selected features: 0.9447236180904522\n"
     ]
    }
   ],
   "source": [
    "print(f\"Accuracy with all features: {reg1.score(X_test, y_test)}\")\n",
    "print(f\"Accuracy with selected features: {reg2.score(X2_test, y2_test)}\")"
   ]
  },
  {
   "cell_type": "code",
   "execution_count": 208,
   "id": "every-permit",
   "metadata": {
    "ExecuteTime": {
     "end_time": "2021-03-17T18:13:02.043168Z",
     "start_time": "2021-03-17T18:13:02.022171Z"
    }
   },
   "outputs": [
    {
     "name": "stdout",
     "output_type": "stream",
     "text": [
      "Accuracy with all features: 0.992462311557789\n",
      "Accuracy with selected features: 0.97571189279732\n"
     ]
    }
   ],
   "source": [
    "#Tree \n",
    "tree1 = DecisionTreeClassifier(random_state=420)\n",
    "tree1.fit(X_train, y_train)\n",
    "tree2 = DecisionTreeClassifier(random_state=420)\n",
    "tree2.fit(X2_train, y2_train)\n",
    "print(f\"Accuracy with all features: {tree1.score(X_test, y_test)}\")\n",
    "print(f\"Accuracy with selected features: {tree2.score(X2_test, y2_test)}\")"
   ]
  },
  {
   "cell_type": "code",
   "execution_count": null,
   "id": "fatal-flashing",
   "metadata": {
    "ExecuteTime": {
     "end_time": "2021-03-17T18:12:37.806654Z",
     "start_time": "2021-03-17T18:12:37.724961Z"
    }
   },
   "outputs": [],
   "source": []
  },
  {
   "cell_type": "code",
   "execution_count": null,
   "id": "bearing-electric",
   "metadata": {},
   "outputs": [],
   "source": []
  }
 ],
 "metadata": {
  "kernelspec": {
   "display_name": "Python 3",
   "language": "python",
   "name": "python3"
  },
  "language_info": {
   "codemirror_mode": {
    "name": "ipython",
    "version": 3
   },
   "file_extension": ".py",
   "mimetype": "text/x-python",
   "name": "python",
   "nbconvert_exporter": "python",
   "pygments_lexer": "ipython3",
   "version": "3.9.1"
  },
  "toc": {
   "base_numbering": 1,
   "nav_menu": {},
   "number_sections": true,
   "sideBar": true,
   "skip_h1_title": false,
   "title_cell": "Table of Contents",
   "title_sidebar": "Contents",
   "toc_cell": false,
   "toc_position": {},
   "toc_section_display": true,
   "toc_window_display": false
  }
 },
 "nbformat": 4,
 "nbformat_minor": 5
}
