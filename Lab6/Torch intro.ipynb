{
 "cells": [
  {
   "cell_type": "code",
   "execution_count": null,
   "id": "naughty-florist",
   "metadata": {
    "ExecuteTime": {
     "end_time": "2021-04-29T09:29:57.891119Z",
     "start_time": "2021-04-29T09:29:56.119326Z"
    }
   },
   "outputs": [],
   "source": [
    "from jupyterthemes import jtplot\n",
    "jtplot.style(figsize = (15, 10), grid = False, ticks = True)"
   ]
  },
  {
   "cell_type": "code",
   "execution_count": null,
   "id": "refined-fight",
   "metadata": {
    "ExecuteTime": {
     "end_time": "2021-04-29T09:06:14.494137Z",
     "start_time": "2021-04-29T09:06:11.464314Z"
    }
   },
   "outputs": [],
   "source": [
    "import numpy as np\n",
    "import pandas as pd\n",
    "# ML\n",
    "from sklearn.model_selection import train_test_split\n",
    "from sklearn.metrics import accuracy_score\n",
    "from sklearn.preprocessing import OneHotEncoder\n",
    "\n",
    "import cv2\n",
    "import torch\n",
    "import torch.nn as nn \n",
    "import torch.nn.functional as F\n",
    "import torchvision\n",
    "\n",
    "# Plots\n",
    "import matplotlib.pyplot as plt\n",
    "\n",
    "# Utils\n",
    "from tqdm import tqdm, trange\n",
    "import os"
   ]
  },
  {
   "cell_type": "markdown",
   "id": "declared-upgrade",
   "metadata": {},
   "source": [
    "## Utils"
   ]
  },
  {
   "cell_type": "markdown",
   "id": "simplified-communication",
   "metadata": {},
   "source": [
    "# Pytorch API"
   ]
  },
  {
   "cell_type": "markdown",
   "id": "timely-drilling",
   "metadata": {},
   "source": [
    "Package| \tDescription|\n",
    "-|-|\n",
    "`torch`| \tThe top-level PyTorch package and tensor library.\n",
    "`torch.nn`| \tA subpackage that contains modules and extensible classes for building neural networks.\n",
    "`torch.autograd`| \tA subpackage that supports all the differentiable Tensor operations in PyTorch.\n",
    "`torch.nn.functional`| \tA functional interface that contains typical operations used for building neural networks like loss functions, activation functions, and convolution operations.\n",
    "`torch.optim`| \tA subpackage that contains standard optimization operations like SGD and Adam.\n",
    "`torch.utils`| \tA subpackage that contains utility classes like data sets and data loaders that make data preprocessing easier.\n",
    "`torchvision`| \tA package that provides access to popular datasets, model architectures, and image transformations for computer vision. "
   ]
  },
  {
   "cell_type": "markdown",
   "id": "brave-pressure",
   "metadata": {},
   "source": [
    "# Tensors"
   ]
  },
  {
   "cell_type": "markdown",
   "id": "further-facial",
   "metadata": {},
   "source": [
    "## Tensor introduction"
   ]
  },
  {
   "cell_type": "markdown",
   "id": "sunrise-company",
   "metadata": {},
   "source": [
    " Each of these examples are specific instances of the more general concept of a tensor:\n",
    "- number / scalar\n",
    "- array / vector\n",
    "- 2d-array / matrix\n",
    "\n",
    "Tensors are generalizations: $n$d-arrays"
   ]
  },
  {
   "cell_type": "code",
   "execution_count": null,
   "id": "completed-adaptation",
   "metadata": {
    "ExecuteTime": {
     "end_time": "2021-04-29T08:13:58.139472Z",
     "start_time": "2021-04-29T08:13:58.129477Z"
    }
   },
   "outputs": [],
   "source": [
    "x = torch.tensor([1, 2, 3])\n",
    "x"
   ]
  },
  {
   "cell_type": "code",
   "execution_count": null,
   "id": "mechanical-precipitation",
   "metadata": {
    "ExecuteTime": {
     "end_time": "2021-04-29T08:13:58.263572Z",
     "start_time": "2021-04-29T08:13:58.257584Z"
    }
   },
   "outputs": [],
   "source": [
    "# Dtypes\n",
    "x = torch.tensor([1, 2, 3], dtype = torch.float32)\n",
    "x"
   ]
  },
  {
   "cell_type": "code",
   "execution_count": null,
   "id": "billion-gambling",
   "metadata": {
    "ExecuteTime": {
     "end_time": "2021-04-29T08:14:28.436379Z",
     "start_time": "2021-04-29T08:14:28.417387Z"
    }
   },
   "outputs": [],
   "source": [
    "x = torch.tensor(2)\n",
    "x"
   ]
  },
  {
   "cell_type": "code",
   "execution_count": null,
   "id": "generic-details",
   "metadata": {
    "ExecuteTime": {
     "end_time": "2021-04-29T08:14:38.201347Z",
     "start_time": "2021-04-29T08:14:38.185349Z"
    }
   },
   "outputs": [],
   "source": [
    "x.item(), type(x.item())"
   ]
  },
  {
   "cell_type": "markdown",
   "id": "persistent-blend",
   "metadata": {
    "ExecuteTime": {
     "end_time": "2021-04-29T08:01:34.028756Z",
     "start_time": "2021-04-29T08:01:34.010772Z"
    }
   },
   "source": [
    "### Get information about a tensor"
   ]
  },
  {
   "cell_type": "code",
   "execution_count": null,
   "id": "arranged-liverpool",
   "metadata": {
    "ExecuteTime": {
     "end_time": "2021-04-29T08:02:11.279007Z",
     "start_time": "2021-04-29T08:02:11.265007Z"
    }
   },
   "outputs": [],
   "source": [
    "print(f\"Shape of tensor: {x.shape}\")\n",
    "print(f\"Datatype of tensor: {x.dtype}\")\n",
    "print(f\"Device tensor is stored on: {x.device}\")"
   ]
  },
  {
   "cell_type": "markdown",
   "id": "intense-eugene",
   "metadata": {},
   "source": [
    "### Tensor operations"
   ]
  },
  {
   "cell_type": "markdown",
   "id": "ordinary-radio",
   "metadata": {},
   "source": [
    "#### Matrix Operations"
   ]
  },
  {
   "cell_type": "code",
   "execution_count": null,
   "id": "oriental-member",
   "metadata": {
    "ExecuteTime": {
     "end_time": "2021-04-29T08:28:11.535282Z",
     "start_time": "2021-04-29T08:28:11.527281Z"
    }
   },
   "outputs": [],
   "source": [
    "x = torch.tensor([[1, 2, 3],\n",
    "                 [4, 5, 6]], dtype = torch.float32)"
   ]
  },
  {
   "cell_type": "code",
   "execution_count": null,
   "id": "prospective-tourism",
   "metadata": {
    "ExecuteTime": {
     "end_time": "2021-04-29T08:28:11.677995Z",
     "start_time": "2021-04-29T08:28:11.656000Z"
    }
   },
   "outputs": [],
   "source": [
    "print(x.sum())\n",
    "print(x.sum(axis = 0))\n",
    "print(x.sum(axis = 1))"
   ]
  },
  {
   "cell_type": "code",
   "execution_count": null,
   "id": "difficult-humor",
   "metadata": {
    "ExecuteTime": {
     "end_time": "2021-04-29T08:28:43.155044Z",
     "start_time": "2021-04-29T08:28:43.136034Z"
    }
   },
   "outputs": [],
   "source": [
    "y = 2 * torch.ones((3, 2))\n",
    "y"
   ]
  },
  {
   "cell_type": "code",
   "execution_count": null,
   "id": "average-generic",
   "metadata": {},
   "outputs": [],
   "source": []
  },
  {
   "attachments": {
    "image.png": {
     "image/png": "[encoded data removed]"
    }
   },
   "cell_type": "markdown",
   "id": "comprehensive-catch",
   "metadata": {},
   "source": [
    "- Matrix multiplication\n",
    "![image.png](attachment:image.png)"
   ]
  },
  {
   "cell_type": "code",
   "execution_count": null,
   "id": "second-therapy",
   "metadata": {
    "ExecuteTime": {
     "end_time": "2021-04-29T08:28:44.009808Z",
     "start_time": "2021-04-29T08:28:44.000806Z"
    }
   },
   "outputs": [],
   "source": [
    "\n",
    "print(x.matmul(y))\n",
    "print(x @ y)"
   ]
  },
  {
   "cell_type": "code",
   "execution_count": null,
   "id": "romance-absorption",
   "metadata": {
    "ExecuteTime": {
     "end_time": "2021-04-29T08:28:44.544811Z",
     "start_time": "2021-04-29T08:28:44.536829Z"
    }
   },
   "outputs": [],
   "source": [
    "x + 1"
   ]
  },
  {
   "cell_type": "code",
   "execution_count": null,
   "id": "material-admission",
   "metadata": {
    "ExecuteTime": {
     "end_time": "2021-04-29T08:28:46.109755Z",
     "start_time": "2021-04-29T08:28:46.096755Z"
    }
   },
   "outputs": [],
   "source": [
    "x * y.T"
   ]
  },
  {
   "cell_type": "markdown",
   "id": "executed-stretch",
   "metadata": {},
   "source": [
    "#### Reshape, squeeze, flatten"
   ]
  },
  {
   "cell_type": "code",
   "execution_count": null,
   "id": "discrete-trinidad",
   "metadata": {
    "ExecuteTime": {
     "end_time": "2021-04-29T08:21:17.501360Z",
     "start_time": "2021-04-29T08:21:17.449366Z"
    }
   },
   "outputs": [],
   "source": [
    "print(x)\n",
    "print(x.reshape(3, 2))\n",
    "print(x.flatten())"
   ]
  },
  {
   "cell_type": "code",
   "execution_count": null,
   "id": "smart-camel",
   "metadata": {
    "ExecuteTime": {
     "end_time": "2021-04-29T08:23:37.903928Z",
     "start_time": "2021-04-29T08:23:37.882931Z"
    }
   },
   "outputs": [],
   "source": [
    "print(x, x.shape)\n",
    "print()\n",
    "print(x.unsqueeze(0), x.unsqueeze(0).shape)\n",
    "\n",
    "print(x.unsqueeze(-1), x.unsqueeze(-1).shape)\n",
    "\n",
    "print(x.unsqueeze(1), x.unsqueeze(1).shape)\n"
   ]
  },
  {
   "cell_type": "markdown",
   "id": "smooth-cleaner",
   "metadata": {
    "ExecuteTime": {
     "end_time": "2021-04-29T08:24:20.876236Z",
     "start_time": "2021-04-29T08:24:20.841599Z"
    }
   },
   "source": [
    "### Concatenation"
   ]
  },
  {
   "cell_type": "code",
   "execution_count": null,
   "id": "cooked-permission",
   "metadata": {
    "ExecuteTime": {
     "end_time": "2021-04-29T08:25:46.987880Z",
     "start_time": "2021-04-29T08:25:46.898872Z"
    }
   },
   "outputs": [],
   "source": [
    "x = torch.tensor([[1, 2, 3],\n",
    "                 [4, 5, 6]])\n",
    "y = torch.tensor([[10, 20, 30],\n",
    "                 [40, 50, 60]])\n",
    "\n",
    "torch.cat([x, y], dim = 0)"
   ]
  },
  {
   "cell_type": "code",
   "execution_count": null,
   "id": "foster-source",
   "metadata": {
    "ExecuteTime": {
     "end_time": "2021-04-29T08:25:58.342764Z",
     "start_time": "2021-04-29T08:25:58.336764Z"
    }
   },
   "outputs": [],
   "source": [
    "torch.cat([x, y], dim = 1)"
   ]
  },
  {
   "cell_type": "markdown",
   "id": "tough-newman",
   "metadata": {},
   "source": [
    "## Usual tensor dimensions used in practice"
   ]
  },
  {
   "cell_type": "markdown",
   "id": "rational-charleston",
   "metadata": {},
   "source": [
    "1. 2D - Numerical data (Vector data):\n",
    "- `(num_samples, num_features)`\n",
    "2. 3D - Time series: \n",
    "- `(num_samples, num_timesteps, num_features)`\n",
    "3. 4D - Image data: \n",
    "- `(num_samples, height, width, channels)` or `(channels, num_samples, height, width)`\n",
    "4. 5D - Video:\n",
    "- `(num_samples, frames, height, width, channels)`\n",
    "\n"
   ]
  },
  {
   "cell_type": "markdown",
   "id": "light-dietary",
   "metadata": {},
   "source": [
    "# Cuda"
   ]
  },
  {
   "cell_type": "markdown",
   "id": "invisible-environment",
   "metadata": {},
   "source": [
    "## Device "
   ]
  },
  {
   "cell_type": "code",
   "execution_count": null,
   "id": "incredible-minneapolis",
   "metadata": {
    "ExecuteTime": {
     "end_time": "2021-04-28T10:55:08.218299Z",
     "start_time": "2021-04-28T10:55:08.173300Z"
    }
   },
   "outputs": [],
   "source": [
    "torch.cuda.is_available()"
   ]
  },
  {
   "cell_type": "code",
   "execution_count": null,
   "id": "seasonal-contrast",
   "metadata": {
    "ExecuteTime": {
     "end_time": "2021-04-28T10:55:08.234297Z",
     "start_time": "2021-04-28T10:55:08.220299Z"
    }
   },
   "outputs": [],
   "source": [
    "DEVICE = \"cuda\" if torch.cuda.is_available() else \"cpu\"\n",
    "print(DEVICE)"
   ]
  },
  {
   "cell_type": "code",
   "execution_count": null,
   "id": "synthetic-hamburg",
   "metadata": {
    "ExecuteTime": {
     "end_time": "2021-04-28T10:55:08.249297Z",
     "start_time": "2021-04-28T10:55:08.237299Z"
    }
   },
   "outputs": [],
   "source": [
    "torch.cuda.get_device_properties(0)"
   ]
  },
  {
   "cell_type": "code",
   "execution_count": null,
   "id": "academic-plenty",
   "metadata": {
    "ExecuteTime": {
     "end_time": "2021-04-28T10:55:08.265299Z",
     "start_time": "2021-04-28T10:55:08.253300Z"
    }
   },
   "outputs": [],
   "source": [
    "torch.cuda.device_count()"
   ]
  },
  {
   "cell_type": "markdown",
   "id": "burning-conspiracy",
   "metadata": {},
   "source": [
    "## Memory"
   ]
  },
  {
   "cell_type": "code",
   "execution_count": null,
   "id": "atmospheric-consciousness",
   "metadata": {
    "ExecuteTime": {
     "end_time": "2021-04-28T10:55:08.280296Z",
     "start_time": "2021-04-28T10:55:08.268299Z"
    }
   },
   "outputs": [],
   "source": [
    "print(torch.cuda.memory_summary(abbreviated=True))"
   ]
  },
  {
   "cell_type": "code",
   "execution_count": null,
   "id": "centered-shock",
   "metadata": {
    "ExecuteTime": {
     "end_time": "2021-04-28T11:06:22.080041Z",
     "start_time": "2021-04-28T11:06:22.072038Z"
    }
   },
   "outputs": [],
   "source": [
    "def print_memory_stats(mb = True):\n",
    "    d = 1\n",
    "    if mb == True: \n",
    "        d = 1024 * 1024\n",
    "        \n",
    "    t = torch.cuda.get_device_properties(0).total_memory / d\n",
    "    r = torch.cuda.memory_reserved(0) / d\n",
    "    a = torch.cuda.memory_allocated(0)  / d\n",
    "    f = r-a  # free inside reserved\n",
    "    print(f\"total memory: {t} MB\")\n",
    "    print(f\"reserved memory: {r} MB\")\n",
    "    print(f\"allocated memory: {a} MB\")\n",
    "    print(f\"free memory inside reserved : {f} MB\")\n",
    "    #return t, r, a, f"
   ]
  },
  {
   "cell_type": "code",
   "execution_count": null,
   "id": "compatible-department",
   "metadata": {
    "ExecuteTime": {
     "end_time": "2021-04-28T10:55:08.311298Z",
     "start_time": "2021-04-28T10:55:08.297300Z"
    }
   },
   "outputs": [],
   "source": [
    "# Look at memory\n",
    "print_memory_stats()"
   ]
  },
  {
   "cell_type": "code",
   "execution_count": null,
   "id": "nominated-nomination",
   "metadata": {
    "ExecuteTime": {
     "end_time": "2021-04-28T10:55:08.327297Z",
     "start_time": "2021-04-28T10:55:08.313298Z"
    }
   },
   "outputs": [],
   "source": [
    "x = torch.rand(1000000)\n",
    "x, x.device"
   ]
  },
  {
   "cell_type": "code",
   "execution_count": null,
   "id": "developing-modem",
   "metadata": {
    "ExecuteTime": {
     "end_time": "2021-04-28T10:55:10.379312Z",
     "start_time": "2021-04-28T10:55:08.329299Z"
    }
   },
   "outputs": [],
   "source": [
    "# Put a tensor into gpu memory\n",
    "x = x.cuda()\n",
    "print(x.device)\n",
    "print_memory_stats()"
   ]
  },
  {
   "cell_type": "code",
   "execution_count": null,
   "id": "blind-drama",
   "metadata": {
    "ExecuteTime": {
     "end_time": "2021-04-28T10:55:10.395297Z",
     "start_time": "2021-04-28T10:55:10.381298Z"
    }
   },
   "outputs": [],
   "source": [
    "# Try to empty cache. It's the same since we have a reference to `x`\n",
    "torch.cuda.empty_cache()\n",
    "print_memory_stats()"
   ]
  },
  {
   "cell_type": "code",
   "execution_count": null,
   "id": "promotional-rendering",
   "metadata": {
    "ExecuteTime": {
     "end_time": "2021-04-28T10:55:10.411310Z",
     "start_time": "2021-04-28T10:55:10.397298Z"
    }
   },
   "outputs": [],
   "source": [
    "# Delete x and look at memory. \n",
    "del x\n",
    "print_memory_stats()"
   ]
  },
  {
   "cell_type": "code",
   "execution_count": null,
   "id": "defined-union",
   "metadata": {
    "ExecuteTime": {
     "end_time": "2021-04-28T10:55:11.510297Z",
     "start_time": "2021-04-28T10:55:10.413297Z"
    }
   },
   "outputs": [],
   "source": [
    "#Indeed, we can't acces `x` anymore\n",
    "x"
   ]
  },
  {
   "cell_type": "code",
   "execution_count": null,
   "id": "tender-print",
   "metadata": {
    "ExecuteTime": {
     "end_time": "2021-04-28T10:55:29.861744Z",
     "start_time": "2021-04-28T10:55:29.851761Z"
    }
   },
   "outputs": [],
   "source": [
    "# Try to empty cache. \n",
    "torch.cuda.empty_cache()\n",
    "print_memory_stats()"
   ]
  },
  {
   "cell_type": "code",
   "execution_count": null,
   "id": "tutorial-alaska",
   "metadata": {
    "ExecuteTime": {
     "end_time": "2021-04-28T10:55:30.555861Z",
     "start_time": "2021-04-28T10:55:30.537862Z"
    }
   },
   "outputs": [],
   "source": [
    "torch.tensor([1, 2, 3]).cuda()\n",
    "print_memory_stats()"
   ]
  },
  {
   "cell_type": "code",
   "execution_count": null,
   "id": "premier-monaco",
   "metadata": {
    "ExecuteTime": {
     "end_time": "2021-04-28T11:06:20.000483Z",
     "start_time": "2021-04-28T11:06:19.984499Z"
    }
   },
   "outputs": [],
   "source": [
    "def pretty_size(size):\n",
    "    \"\"\"Pretty prints a torch.Size object\"\"\"\n",
    "    assert(isinstance(size, torch.Size))\n",
    "    return \" × \".join(map(str, size))\n",
    "\n",
    "def dump_tensors(gpu_only=True):\n",
    "    \"\"\"Prints a list of the Tensors being tracked by the garbage collector.\"\"\"\n",
    "    import gc\n",
    "    total_size = 0\n",
    "    for obj in gc.get_objects():\n",
    "        try:\n",
    "            if torch.is_tensor(obj):\n",
    "                if not gpu_only or obj.is_cuda:\n",
    "                    print(f'{type(obj).__name__}: {\" GPU\" if obj.is_cuda else \"\"}{\" pinned\" if obj.is_pinned else \"\"} {pretty_size(obj.size())}')\n",
    "                    total_size += obj.numel()\n",
    "            elif hasattr(obj, \"data\") and torch.is_tensor(obj.data):\n",
    "                if not gpu_only or obj.is_cuda:\n",
    "                    print(\"%s → %s:%s%s%s%s %s\" % (type(obj).__name__, \n",
    "                                                   type(obj.data).__name__, \n",
    "                                                   \" GPU\" if obj.is_cuda else \"\",\n",
    "                                                   \" pinned\" if obj.data.is_pinned else \"\",\n",
    "                                                   \" grad\" if obj.requires_grad else \"\", \n",
    "                                                   \" volatile\" if obj.volatile else \"\",\n",
    "                                                   pretty_size(obj.data.size())))\n",
    "                    total_size += obj.data.numel()\n",
    "        except Exception as e:\n",
    "            pass        \n",
    "    print(\"Total size:\", total_size)"
   ]
  },
  {
   "cell_type": "code",
   "execution_count": null,
   "id": "magnetic-surrey",
   "metadata": {
    "ExecuteTime": {
     "end_time": "2021-04-28T10:55:44.733325Z",
     "start_time": "2021-04-28T10:55:44.539599Z"
    }
   },
   "outputs": [],
   "source": [
    "x = torch.rand((100, 100, 100)).cuda()\n",
    "y = torch.rand((2134, 4444)).cuda()\n",
    "dump_tensors()"
   ]
  },
  {
   "cell_type": "code",
   "execution_count": null,
   "id": "indian-classic",
   "metadata": {
    "ExecuteTime": {
     "end_time": "2021-04-28T10:55:45.939147Z",
     "start_time": "2021-04-28T10:55:45.932131Z"
    }
   },
   "outputs": [],
   "source": [
    "del x, y"
   ]
  },
  {
   "cell_type": "code",
   "execution_count": null,
   "id": "introductory-banana",
   "metadata": {
    "ExecuteTime": {
     "end_time": "2021-04-28T10:55:46.344436Z",
     "start_time": "2021-04-28T10:55:46.220447Z"
    }
   },
   "outputs": [],
   "source": [
    "dump_tensors()"
   ]
  },
  {
   "cell_type": "markdown",
   "id": "played-queen",
   "metadata": {},
   "source": [
    "## GPU to CPU"
   ]
  },
  {
   "cell_type": "code",
   "execution_count": null,
   "id": "polar-poultry",
   "metadata": {
    "ExecuteTime": {
     "end_time": "2021-04-28T11:07:25.306816Z",
     "start_time": "2021-04-28T11:07:25.183816Z"
    }
   },
   "outputs": [],
   "source": [
    "x = torch.rand((100, 100, 100)).cuda()\n",
    "dump_tensors()"
   ]
  },
  {
   "cell_type": "code",
   "execution_count": null,
   "id": "breathing-ivory",
   "metadata": {
    "ExecuteTime": {
     "end_time": "2021-04-28T11:07:25.337814Z",
     "start_time": "2021-04-28T11:07:25.324817Z"
    }
   },
   "outputs": [],
   "source": [
    "x = x.cpu()"
   ]
  },
  {
   "cell_type": "code",
   "execution_count": null,
   "id": "prospective-monthly",
   "metadata": {
    "ExecuteTime": {
     "end_time": "2021-04-28T11:07:25.576816Z",
     "start_time": "2021-04-28T11:07:25.458828Z"
    }
   },
   "outputs": [],
   "source": [
    "dump_tensors()"
   ]
  },
  {
   "cell_type": "code",
   "execution_count": null,
   "id": "activated-scholarship",
   "metadata": {
    "ExecuteTime": {
     "end_time": "2021-04-28T11:07:31.585035Z",
     "start_time": "2021-04-28T11:07:31.576032Z"
    }
   },
   "outputs": [],
   "source": [
    "del x"
   ]
  },
  {
   "cell_type": "code",
   "execution_count": null,
   "id": "vanilla-purpose",
   "metadata": {
    "ExecuteTime": {
     "end_time": "2021-04-28T11:07:31.838949Z",
     "start_time": "2021-04-28T11:07:31.721953Z"
    }
   },
   "outputs": [],
   "source": [
    "dump_tensors()"
   ]
  },
  {
   "cell_type": "code",
   "execution_count": null,
   "id": "weekly-booking",
   "metadata": {
    "ExecuteTime": {
     "end_time": "2021-04-28T11:07:32.330449Z",
     "start_time": "2021-04-28T11:07:32.319438Z"
    }
   },
   "outputs": [],
   "source": [
    "print_memory_stats()"
   ]
  },
  {
   "cell_type": "code",
   "execution_count": null,
   "id": "stupid-vietnamese",
   "metadata": {
    "ExecuteTime": {
     "end_time": "2021-04-28T11:07:48.111218Z",
     "start_time": "2021-04-28T11:07:48.098208Z"
    }
   },
   "outputs": [],
   "source": [
    "torch.cuda.empty_cache()\n",
    "print_memory_stats()"
   ]
  },
  {
   "cell_type": "markdown",
   "id": "embedded-dollar",
   "metadata": {},
   "source": [
    "# Data"
   ]
  },
  {
   "cell_type": "markdown",
   "id": "arbitrary-episode",
   "metadata": {},
   "source": [
    "## Dataset, DataLoader"
   ]
  },
  {
   "cell_type": "markdown",
   "id": "cheap-worcester",
   "metadata": {},
   "source": [
    "- https://pytorch.org/tutorials/beginner/basics/data_tutorial.html"
   ]
  },
  {
   "cell_type": "code",
   "execution_count": null,
   "id": "objective-heart",
   "metadata": {
    "ExecuteTime": {
     "end_time": "2021-04-29T07:53:06.978772Z",
     "start_time": "2021-04-29T07:53:06.965770Z"
    }
   },
   "outputs": [],
   "source": [
    "from torch.utils.data import Dataset, DataLoader"
   ]
  },
  {
   "cell_type": "code",
   "execution_count": null,
   "id": "modern-african",
   "metadata": {
    "ExecuteTime": {
     "end_time": "2021-04-29T07:54:37.663477Z",
     "start_time": "2021-04-29T07:54:37.633465Z"
    }
   },
   "outputs": [],
   "source": [
    "class MyDataset(Dataset):\n",
    "    def __init__(self):\n",
    "        numbers = np.arange(100)\n",
    "        self.data = numbers\n",
    "        \n",
    "    def __len__(self):\n",
    "        return len(self.data)\n",
    "    \n",
    "    def __getitem__(self, index):\n",
    "        return self.data[index]"
   ]
  },
  {
   "cell_type": "code",
   "execution_count": null,
   "id": "comic-spain",
   "metadata": {
    "ExecuteTime": {
     "end_time": "2021-04-29T07:55:22.726056Z",
     "start_time": "2021-04-29T07:55:22.706057Z"
    }
   },
   "outputs": [],
   "source": [
    "dataset = MyDataset()\n",
    "print(len(dataset))\n",
    "print(dataset.data)"
   ]
  },
  {
   "cell_type": "code",
   "execution_count": null,
   "id": "beautiful-mouse",
   "metadata": {
    "ExecuteTime": {
     "end_time": "2021-04-29T07:55:53.173902Z",
     "start_time": "2021-04-29T07:55:52.777585Z"
    }
   },
   "outputs": [],
   "source": [
    "dataloader = DataLoader(dataset, batch_size = 10, shuffle = True)\n",
    "for i, batch in enumerate(dataloader):\n",
    "    print(i, batch)"
   ]
  },
  {
   "cell_type": "markdown",
   "id": "aquatic-humidity",
   "metadata": {},
   "source": [
    "# Training"
   ]
  },
  {
   "attachments": {
    "image.png": {
     "image/png": "[encoded data removed]"
    }
   },
   "cell_type": "markdown",
   "id": "another-curtis",
   "metadata": {},
   "source": [
    "![image.png](attachment:image.png)"
   ]
  },
  {
   "cell_type": "markdown",
   "id": "broken-evolution",
   "metadata": {},
   "source": [
    "## Data"
   ]
  },
  {
   "cell_type": "code",
   "execution_count": null,
   "id": "regulation-protein",
   "metadata": {
    "ExecuteTime": {
     "end_time": "2021-04-29T09:11:10.906025Z",
     "start_time": "2021-04-29T09:11:04.831860Z"
    }
   },
   "outputs": [],
   "source": [
    "import pandas as pd\n",
    "\n",
    "df_train =  pd.read_csv('../lab5/mnist/mnist_train.csv')\n",
    "df_test =  pd.read_csv('../lab5/mnist/mnist_test.csv')\n",
    "\n",
    "X_train, y_train = df_train.drop('label', axis = 1).to_numpy(), df_train['label'].to_numpy()\n",
    "X_test, y_test = df_test.drop('label', axis = 1).to_numpy(), df_test['label'].to_numpy()\n",
    "X_train = X_train / 255\n",
    "X_test = X_test / 255"
   ]
  },
  {
   "cell_type": "code",
   "execution_count": null,
   "id": "confused-iceland",
   "metadata": {
    "ExecuteTime": {
     "end_time": "2021-04-29T09:17:33.296456Z",
     "start_time": "2021-04-29T09:17:33.080452Z"
    }
   },
   "outputs": [],
   "source": [
    "X = np.concatenate([X_train, X_test])\n",
    "y = np.concatenate([y_train, y_test])\n",
    "X.shape, y.shape"
   ]
  },
  {
   "cell_type": "code",
   "execution_count": null,
   "id": "unlimited-opportunity",
   "metadata": {
    "ExecuteTime": {
     "end_time": "2021-04-29T09:17:35.908505Z",
     "start_time": "2021-04-29T09:17:35.511498Z"
    }
   },
   "outputs": [],
   "source": [
    "G = 16\n",
    "X_sel = X[:G * G]\n",
    "plt.figure(figsize = (10, 10))\n",
    "plt.imshow(np.concatenate(X_sel.reshape(G, 28 * G, 28), axis = 1))"
   ]
  },
  {
   "cell_type": "code",
   "execution_count": null,
   "id": "appointed-senior",
   "metadata": {
    "ExecuteTime": {
     "end_time": "2021-04-29T09:17:39.503480Z",
     "start_time": "2021-04-29T09:17:39.487482Z"
    }
   },
   "outputs": [],
   "source": [
    "class DigitsDataset(Dataset):\n",
    "    def __init__(self, X, y):\n",
    "        # Make your own dataset. Include self.num_features, self.num_classes for ease of use\n",
    "        # Code here\n",
    "        "
   ]
  },
  {
   "cell_type": "code",
   "execution_count": null,
   "id": "impressive-plasma",
   "metadata": {
    "ExecuteTime": {
     "end_time": "2021-04-29T09:17:51.545350Z",
     "start_time": "2021-04-29T09:17:51.448352Z"
    }
   },
   "outputs": [],
   "source": [
    "dataset = DigitsDataset(X, y)\n",
    "#dataloader = DataLoader(dataset, batch_size = 64, shuffle = True)"
   ]
  },
  {
   "cell_type": "code",
   "execution_count": null,
   "id": "stopped-diving",
   "metadata": {
    "ExecuteTime": {
     "end_time": "2021-04-29T09:17:52.186530Z",
     "start_time": "2021-04-29T09:17:52.167531Z"
    }
   },
   "outputs": [],
   "source": [
    "from torch.utils.data import random_split\n",
    "\n",
    "train_len = int(.8 * len(dataset))\n",
    "test_len = len(dataset) - train_len\n",
    "\n",
    "train_dataset, test_dataset = random_split(dataset, [train_len, test_len])"
   ]
  },
  {
   "cell_type": "markdown",
   "id": "elegant-public",
   "metadata": {},
   "source": [
    "## Models"
   ]
  },
  {
   "cell_type": "code",
   "execution_count": null,
   "id": "light-expansion",
   "metadata": {
    "ExecuteTime": {
     "end_time": "2021-04-29T09:28:09.227067Z",
     "start_time": "2021-04-29T09:28:09.217054Z"
    }
   },
   "outputs": [],
   "source": [
    "class Model(nn.Module):\n",
    "    def __init__(self, input_dim, output_dim):\n",
    "        super(Model, self).__init__()\n",
    "        # Hidden layers\n",
    "        self.fc = nn.Linear(input_dim, output_dim)\n",
    "        \n",
    "    def forward(self, x):\n",
    "        x = self.fc(x)\n",
    "        return F.softmax(x, dim = 1)\n",
    "    \n",
    "# Make and use a stronger model\n"
   ]
  },
  {
   "cell_type": "code",
   "execution_count": null,
   "id": "labeled-feedback",
   "metadata": {
    "ExecuteTime": {
     "end_time": "2021-04-29T09:28:09.403142Z",
     "start_time": "2021-04-29T09:28:09.393141Z"
    }
   },
   "outputs": [],
   "source": [
    "input_shape = dataset.num_features\n",
    "output_shape = dataset.num_classes\n",
    "model = Model(input_shape, output_shape)\n",
    "#model.cuda()"
   ]
  },
  {
   "cell_type": "code",
   "execution_count": null,
   "id": "differential-sucking",
   "metadata": {
    "ExecuteTime": {
     "end_time": "2021-04-29T09:28:09.561231Z",
     "start_time": "2021-04-29T09:28:09.548219Z"
    }
   },
   "outputs": [],
   "source": [
    "model"
   ]
  },
  {
   "cell_type": "code",
   "execution_count": null,
   "id": "embedded-bahrain",
   "metadata": {
    "ExecuteTime": {
     "end_time": "2021-04-29T09:28:09.705252Z",
     "start_time": "2021-04-29T09:28:09.693241Z"
    }
   },
   "outputs": [],
   "source": [
    "for p in model.parameters():\n",
    "    print(p.shape)\n",
    "    #print(p)"
   ]
  },
  {
   "cell_type": "markdown",
   "id": "contrary-henry",
   "metadata": {},
   "source": [
    "## Optimizers, loss"
   ]
  },
  {
   "cell_type": "code",
   "execution_count": null,
   "id": "preliminary-outside",
   "metadata": {
    "ExecuteTime": {
     "end_time": "2021-04-29T09:28:09.973724Z",
     "start_time": "2021-04-29T09:28:09.970727Z"
    }
   },
   "outputs": [],
   "source": [
    "learning_rate = 0.1\n",
    "optimizer = torch.optim.SGD(model.parameters(), lr=learning_rate)\n",
    "\n",
    "loss_function = nn.CrossEntropyLoss()"
   ]
  },
  {
   "cell_type": "markdown",
   "id": "incredible-jefferson",
   "metadata": {},
   "source": [
    "## Training"
   ]
  },
  {
   "cell_type": "code",
   "execution_count": null,
   "id": "efficient-mustang",
   "metadata": {
    "ExecuteTime": {
     "end_time": "2021-04-29T09:28:10.257950Z",
     "start_time": "2021-04-29T09:28:10.240950Z"
    }
   },
   "outputs": [],
   "source": [
    "torch.argmax(model(X_batch), axis = 1)"
   ]
  },
  {
   "cell_type": "code",
   "execution_count": null,
   "id": "middle-viking",
   "metadata": {
    "ExecuteTime": {
     "end_time": "2021-04-29T09:28:10.669813Z",
     "start_time": "2021-04-29T09:28:10.649801Z"
    }
   },
   "outputs": [],
   "source": [
    "X_batch.shape"
   ]
  },
  {
   "cell_type": "code",
   "execution_count": null,
   "id": "consolidated-february",
   "metadata": {
    "ExecuteTime": {
     "end_time": "2021-04-29T09:28:11.124754Z",
     "start_time": "2021-04-29T09:28:11.114744Z"
    }
   },
   "outputs": [],
   "source": [
    "batch_size = 64\n",
    "trainloader = DataLoader(train_dataset, batch_size=batch_size, shuffle=True)\n",
    "testloader = DataLoader(train_dataset, batch_size=len(test_dataset))"
   ]
  },
  {
   "cell_type": "code",
   "execution_count": null,
   "id": "surrounded-logistics",
   "metadata": {
    "ExecuteTime": {
     "end_time": "2021-04-29T09:29:10.887724Z",
     "start_time": "2021-04-29T09:28:11.528714Z"
    }
   },
   "outputs": [],
   "source": [
    "epochs = 5\n",
    "accs = []\n",
    "losses = []\n",
    "model.train() # Set the model to training mode\n",
    "for epoch in (t:= trange(epochs)):\n",
    "    \n",
    "    loss_epoch = 0.\n",
    "    acc = 0.\n",
    "    num_batches = 0\n",
    "    for X_batch, y_batch in trainloader:\n",
    "        num_batches +=1\n",
    "        y_pred = model(X_batch)\n",
    "        \n",
    "        loss = loss_function(y_pred, y_batch)    \n",
    "        loss_epoch += loss.item()\n",
    "        \n",
    "        acc += accuracy_score(torch.argmax(y_pred, axis = 1), y_batch)\n",
    "        \n",
    "        optimizer.zero_grad() # don't forget this\n",
    "        loss.backward()\n",
    "        optimizer.step()\n",
    "    \n",
    "    acc /= num_batches\n",
    "    loss_epoch /= num_batches\n",
    "    losses.append(loss_epoch)\n",
    "    accs.append(acc)\n",
    "    t.set_description(f\"Loss: {round(loss_epoch, 2), round(acc, 2)}\")"
   ]
  },
  {
   "cell_type": "markdown",
   "id": "executed-employee",
   "metadata": {},
   "source": [
    "## Evaluate"
   ]
  },
  {
   "cell_type": "code",
   "execution_count": null,
   "id": "increasing-merchant",
   "metadata": {
    "ExecuteTime": {
     "end_time": "2021-04-29T09:30:04.597419Z",
     "start_time": "2021-04-29T09:30:04.287298Z"
    }
   },
   "outputs": [],
   "source": [
    "fig, axs = plt.subplots(1, 2, figsize = (20, 5))\n",
    "\n",
    "axs[0].plot(losses)\n",
    "axs[1].plot(accs)"
   ]
  },
  {
   "cell_type": "code",
   "execution_count": null,
   "id": "pharmaceutical-entertainment",
   "metadata": {
    "ExecuteTime": {
     "end_time": "2021-04-29T09:31:06.401713Z",
     "start_time": "2021-04-29T09:31:05.775729Z"
    }
   },
   "outputs": [],
   "source": [
    "model.eval()\n",
    "X_test, y_test = test_dataset.dataset.X, test_dataset.dataset.y\n",
    "y_pred= model(X_test)\n",
    "\n",
    "print(accuracy_score(torch.argmax(y_pred, axis = 1), y_test))"
   ]
  },
  {
   "cell_type": "code",
   "execution_count": null,
   "id": "confused-marina",
   "metadata": {},
   "outputs": [],
   "source": []
  },
  {
   "cell_type": "markdown",
   "id": "horizontal-shopping",
   "metadata": {},
   "source": []
  }
 ],
 "metadata": {
  "kernelspec": {
   "display_name": "Python 3",
   "language": "python",
   "name": "python3"
  },
  "language_info": {
   "codemirror_mode": {
    "name": "ipython",
    "version": 3
   },
   "file_extension": ".py",
   "mimetype": "text/x-python",
   "name": "python",
   "nbconvert_exporter": "python",
   "pygments_lexer": "ipython3",
   "version": "3.9.1"
  },
  "toc": {
   "base_numbering": 1,
   "nav_menu": {},
   "number_sections": true,
   "sideBar": true,
   "skip_h1_title": false,
   "title_cell": "Table of Contents",
   "title_sidebar": "Contents",
   "toc_cell": false,
   "toc_position": {},
   "toc_section_display": true,
   "toc_window_display": false
  }
 },
 "nbformat": 4,
 "nbformat_minor": 5
}
