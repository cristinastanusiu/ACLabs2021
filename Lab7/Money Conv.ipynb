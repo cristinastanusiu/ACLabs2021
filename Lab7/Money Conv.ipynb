{
 "cells": [
  {
   "cell_type": "code",
   "execution_count": null,
   "id": "mechanical-passenger",
   "metadata": {
    "ExecuteTime": {
     "end_time": "2021-05-06T07:15:48.238992Z",
     "start_time": "2021-05-06T07:15:41.124258Z"
    }
   },
   "outputs": [],
   "source": [
    "from jupyterthemes import jtplot\n",
    "jtplot.style(theme = 'onedork', grid = False, ticks = True)"
   ]
  },
  {
   "cell_type": "code",
   "execution_count": null,
   "id": "beginning-paris",
   "metadata": {
    "ExecuteTime": {
     "end_time": "2021-05-06T07:15:54.066985Z",
     "start_time": "2021-05-06T07:15:48.241977Z"
    }
   },
   "outputs": [],
   "source": [
    "import numpy as np\n",
    "import pandas as pd\n",
    "# ML\n",
    "from sklearn.model_selection import train_test_split\n",
    "from sklearn.metrics import accuracy_score\n",
    "from sklearn.preprocessing import OneHotEncoder\n",
    "\n",
    "import cv2\n",
    "import torch\n",
    "import torch.nn as nn \n",
    "import torch.nn.functional as F\n",
    "import torchvision\n",
    "from torchsummary import summary\n",
    "\n",
    "# Plots\n",
    "import matplotlib.pyplot as plt\n",
    "\n",
    "# Utils\n",
    "from collections import OrderedDict\n",
    "from tqdm import tqdm, trange\n",
    "import os"
   ]
  },
  {
   "cell_type": "markdown",
   "id": "clinical-strength",
   "metadata": {},
   "source": [
    "## Utils"
   ]
  },
  {
   "cell_type": "code",
   "execution_count": null,
   "id": "worse-terrace",
   "metadata": {},
   "outputs": [],
   "source": []
  },
  {
   "cell_type": "markdown",
   "id": "associate-railway",
   "metadata": {},
   "source": [
    "# Data"
   ]
  },
  {
   "cell_type": "code",
   "execution_count": null,
   "id": "generic-account",
   "metadata": {
    "ExecuteTime": {
     "end_time": "2021-05-06T07:15:54.082979Z",
     "start_time": "2021-05-06T07:15:54.070977Z"
    }
   },
   "outputs": [],
   "source": [
    "from torch.utils.data import Dataset, DataLoader\n",
    "from torchvision import transforms"
   ]
  },
  {
   "cell_type": "code",
   "execution_count": null,
   "id": "numerical-citation",
   "metadata": {
    "ExecuteTime": {
     "end_time": "2021-05-06T07:15:54.145976Z",
     "start_time": "2021-05-06T07:15:54.085980Z"
    }
   },
   "outputs": [],
   "source": [
    "# The ImageFolder dataset\n",
    "transform = transforms.Compose([transforms.ToTensor()])\n",
    "dataset = torchvision.datasets.ImageFolder('../datasets/money/', transform=transform)"
   ]
  },
  {
   "cell_type": "code",
   "execution_count": null,
   "id": "careful-excellence",
   "metadata": {
    "ExecuteTime": {
     "end_time": "2021-05-06T07:15:54.161977Z",
     "start_time": "2021-05-06T07:15:54.148978Z"
    }
   },
   "outputs": [],
   "source": [
    "dataset"
   ]
  },
  {
   "cell_type": "code",
   "execution_count": null,
   "id": "religious-medicare",
   "metadata": {
    "ExecuteTime": {
     "end_time": "2021-05-06T07:15:54.193978Z",
     "start_time": "2021-05-06T07:15:54.163976Z"
    }
   },
   "outputs": [],
   "source": [
    "dataset.classes"
   ]
  },
  {
   "cell_type": "code",
   "execution_count": null,
   "id": "integral-taste",
   "metadata": {
    "ExecuteTime": {
     "end_time": "2021-05-06T07:15:54.209976Z",
     "start_time": "2021-05-06T07:15:54.195976Z"
    }
   },
   "outputs": [],
   "source": [
    "dataset.samples[:5]"
   ]
  },
  {
   "cell_type": "code",
   "execution_count": null,
   "id": "sitting-conditioning",
   "metadata": {
    "ExecuteTime": {
     "end_time": "2021-05-06T07:15:54.301975Z",
     "start_time": "2021-05-06T07:15:54.211977Z"
    }
   },
   "outputs": [],
   "source": [
    "sample, label =  next(iter(dataset))"
   ]
  },
  {
   "cell_type": "code",
   "execution_count": null,
   "id": "municipal-onion",
   "metadata": {
    "ExecuteTime": {
     "end_time": "2021-05-06T07:15:54.597976Z",
     "start_time": "2021-05-06T07:15:54.308977Z"
    }
   },
   "outputs": [],
   "source": [
    "plt.imshow(sample.T) # Channels first"
   ]
  },
  {
   "cell_type": "code",
   "execution_count": null,
   "id": "arranged-montana",
   "metadata": {
    "ExecuteTime": {
     "end_time": "2021-05-06T07:15:54.660976Z",
     "start_time": "2021-05-06T07:15:54.600978Z"
    }
   },
   "outputs": [],
   "source": [
    "# We can use our dataset with the dataloader! \n",
    "dataloader = DataLoader(dataset, batch_size = 32, shuffle = True)\n",
    "samples, labels = next(iter(dataloader))"
   ]
  },
  {
   "cell_type": "code",
   "execution_count": null,
   "id": "statewide-begin",
   "metadata": {
    "ExecuteTime": {
     "end_time": "2021-05-06T07:15:54.955977Z",
     "start_time": "2021-05-06T07:15:54.662976Z"
    }
   },
   "outputs": [],
   "source": [
    "plt.imshow(samples[0].T)\n",
    "plt.show()"
   ]
  },
  {
   "cell_type": "code",
   "execution_count": null,
   "id": "matched-elder",
   "metadata": {
    "ExecuteTime": {
     "end_time": "2021-05-06T07:15:54.971976Z",
     "start_time": "2021-05-06T07:15:54.957977Z"
    }
   },
   "outputs": [],
   "source": [
    "from torch.utils.data import random_split\n",
    "train_len = int(.8 * len(dataset))\n",
    "test_len = len(dataset) - train_len\n",
    "train_dataset, test_dataset = random_split(dataset, [train_len, test_len])"
   ]
  },
  {
   "cell_type": "markdown",
   "id": "hydraulic-duncan",
   "metadata": {},
   "source": [
    "# Models and layers"
   ]
  },
  {
   "cell_type": "markdown",
   "id": "offshore-bryan",
   "metadata": {},
   "source": [
    "## Convolutions"
   ]
  },
  {
   "cell_type": "markdown",
   "id": "indoor-yorkshire",
   "metadata": {},
   "source": [
    "Videos \n",
    "- https://www.youtube.com/watch?v=YRhxdVk_sIs - Deeplizard\n",
    "- https://www.youtube.com/watch?v=x_VrgWTKkiM - Tensorflow\n",
    "- https://www.youtube.com/watch?v=py5byOOHZM8 - Mike Pound <3 \n",
    "- https://www.youtube.com/watch?v=pj9-rr1wDhM - Visualization\n",
    "- https://www.youtube.com/watch?v=f0t-OCG79-U - Viz 2\n",
    "\n",
    "Play with it \n",
    "- https://www.cs.ryerson.ca/~aharley/vis/\n",
    "\n"
   ]
  },
  {
   "cell_type": "markdown",
   "id": "purple-commander",
   "metadata": {},
   "source": [
    "Convolution output dimension\n",
    "$$W_{out} = \\dfrac {W_{in} - K + 2P} S + 1$$\n",
    "\n",
    "Where \n",
    "- $W_{in}$ = Input size\n",
    "- $K$ = Filter size\n",
    "- $S$ = Stride\n",
    "- $P$ = Padding"
   ]
  },
  {
   "cell_type": "code",
   "execution_count": null,
   "id": "external-november",
   "metadata": {
    "ExecuteTime": {
     "end_time": "2021-05-06T07:15:54.986974Z",
     "start_time": "2021-05-06T07:15:54.973976Z"
    }
   },
   "outputs": [],
   "source": [
    "#?nn.Conv2d"
   ]
  },
  {
   "cell_type": "code",
   "execution_count": null,
   "id": "homeless-gallery",
   "metadata": {
    "ExecuteTime": {
     "end_time": "2021-05-06T07:15:55.002975Z",
     "start_time": "2021-05-06T07:15:54.988976Z"
    }
   },
   "outputs": [],
   "source": [
    "conv = nn.Conv2d(3, 32, kernel_size = 5, stride = 2, padding = 2, padding_mode = 'zeros')"
   ]
  },
  {
   "cell_type": "code",
   "execution_count": null,
   "id": "working-optimization",
   "metadata": {
    "ExecuteTime": {
     "end_time": "2021-05-06T07:15:55.033977Z",
     "start_time": "2021-05-06T07:15:55.005977Z"
    }
   },
   "outputs": [],
   "source": [
    "conv_output = conv(sample.unsqueeze(0))"
   ]
  },
  {
   "cell_type": "code",
   "execution_count": null,
   "id": "cognitive-local",
   "metadata": {
    "ExecuteTime": {
     "end_time": "2021-05-06T07:15:55.049977Z",
     "start_time": "2021-05-06T07:15:55.035978Z"
    }
   },
   "outputs": [],
   "source": [
    "# out_dim  = (128 - 5 + 4) / 1 + 1 = 128\n",
    "conv_output.shape"
   ]
  },
  {
   "cell_type": "markdown",
   "id": "tired-charity",
   "metadata": {},
   "source": [
    "## Max pool layer"
   ]
  },
  {
   "cell_type": "code",
   "execution_count": null,
   "id": "southeast-taste",
   "metadata": {
    "ExecuteTime": {
     "end_time": "2021-05-06T07:15:55.065976Z",
     "start_time": "2021-05-06T07:15:55.052976Z"
    }
   },
   "outputs": [],
   "source": [
    "#nn.MaxPool2d"
   ]
  },
  {
   "cell_type": "code",
   "execution_count": null,
   "id": "difficult-nutrition",
   "metadata": {
    "ExecuteTime": {
     "end_time": "2021-05-06T07:15:55.081975Z",
     "start_time": "2021-05-06T07:15:55.067977Z"
    }
   },
   "outputs": [],
   "source": [
    "maxpool = nn.MaxPool2d(kernel_size = 2, stride = 2)"
   ]
  },
  {
   "cell_type": "code",
   "execution_count": null,
   "id": "figured-wilson",
   "metadata": {
    "ExecuteTime": {
     "end_time": "2021-05-06T07:15:55.096976Z",
     "start_time": "2021-05-06T07:15:55.083976Z"
    }
   },
   "outputs": [],
   "source": [
    "maxpool_output = maxpool(conv_output)\n",
    "maxpool_output.shape"
   ]
  },
  {
   "cell_type": "markdown",
   "id": "sound-correlation",
   "metadata": {},
   "source": [
    "## Model"
   ]
  },
  {
   "cell_type": "code",
   "execution_count": null,
   "id": "enclosed-revolution",
   "metadata": {
    "ExecuteTime": {
     "end_time": "2021-05-06T07:15:55.111975Z",
     "start_time": "2021-05-06T07:15:55.098976Z"
    }
   },
   "outputs": [],
   "source": [
    "class CNNModel(nn.Module):\n",
    "    def __init__(self,output_dim):\n",
    "        super(CNNModel, self).__init__()\n",
    "        \n",
    "        # First group\n",
    "        self.conv1 = nn.Conv2d(3, 8, kernel_size = 5, stride = 2, padding = 2, padding_mode = 'zeros')\n",
    "        # out_dim = 64 x 64\n",
    "        self.maxpool1 = nn.MaxPool2d(kernel_size = 2, stride = 2, padding = 0)\n",
    "        # out_dim = 32 x 32\n",
    "        \n",
    "        # Second group\n",
    "        self.conv2 = nn.Conv2d(8, 16, kernel_size = 5, stride = 2, padding = 2, padding_mode = 'zeros')\n",
    "        # out_dim = 16 x 16\n",
    "        self.maxpool2 = nn.MaxPool2d(kernel_size = 2, stride = 2)\n",
    "        # out_dim = 8 x 8 \n",
    "\n",
    "        self.flatten = nn.Flatten()\n",
    "        self.fc1 = nn.Linear(8 * 8 * 16, 128)\n",
    "        self.relu = nn.ReLU()\n",
    "        self.fc2 = nn.Linear(128, output_dim)\n",
    "        \n",
    "        \n",
    "    def forward(self, x):\n",
    "        x = self.conv1(x)\n",
    "        x = self.relu(x)\n",
    "        x = self.maxpool1(x)\n",
    "        \n",
    "        x = self.conv2(x)\n",
    "        x = self.relu(x)\n",
    "        x = self.maxpool2(x)\n",
    "        \n",
    "        x = self.flatten(x)\n",
    "        x = self.fc1(x)\n",
    "        x = self.relu(x)\n",
    "        x = self.fc2(x)\n",
    "        return F.softmax(x, dim = 1)"
   ]
  },
  {
   "cell_type": "markdown",
   "id": "literary-kingdom",
   "metadata": {},
   "source": [
    "# Training loop"
   ]
  },
  {
   "cell_type": "code",
   "execution_count": null,
   "id": "widespread-madagascar",
   "metadata": {
    "ExecuteTime": {
     "end_time": "2021-05-06T07:16:29.892829Z",
     "start_time": "2021-05-06T07:16:29.874842Z"
    }
   },
   "outputs": [],
   "source": [
    "input_shape = tuple(next(iter(dataset))[0].shape)\n",
    "output_shape = len(dataset.classes)\n",
    "model = CNNModel(output_shape)\n",
    "#model.cuda()"
   ]
  },
  {
   "cell_type": "code",
   "execution_count": null,
   "id": "frequent-dollar",
   "metadata": {
    "ExecuteTime": {
     "end_time": "2021-05-06T07:16:30.080830Z",
     "start_time": "2021-05-06T07:16:30.053831Z"
    }
   },
   "outputs": [],
   "source": [
    "summary(model = model, input_size=(input_shape), batch_size = 32, device = 'cpu')"
   ]
  },
  {
   "cell_type": "code",
   "execution_count": null,
   "id": "strategic-wilson",
   "metadata": {
    "ExecuteTime": {
     "end_time": "2021-05-06T07:16:30.223830Z",
     "start_time": "2021-05-06T07:16:30.205830Z"
    }
   },
   "outputs": [],
   "source": [
    "for p in model.parameters():\n",
    "    print(p.shape)\n",
    "    #print(p)"
   ]
  },
  {
   "cell_type": "code",
   "execution_count": null,
   "id": "aggregate-daniel",
   "metadata": {
    "ExecuteTime": {
     "end_time": "2021-05-06T07:16:30.365830Z",
     "start_time": "2021-05-06T07:16:30.342829Z"
    }
   },
   "outputs": [],
   "source": [
    "model.cuda()"
   ]
  },
  {
   "cell_type": "code",
   "execution_count": null,
   "id": "sonic-farmer",
   "metadata": {
    "ExecuteTime": {
     "end_time": "2021-05-06T07:16:30.506828Z",
     "start_time": "2021-05-06T07:16:30.487830Z"
    }
   },
   "outputs": [],
   "source": [
    "learning_rate = 1e-3\n",
    "optimizer = torch.optim.Adam(model.parameters(), lr=learning_rate)\n",
    "loss_function = nn.CrossEntropyLoss()"
   ]
  },
  {
   "cell_type": "code",
   "execution_count": null,
   "id": "meaning-birth",
   "metadata": {
    "ExecuteTime": {
     "end_time": "2021-05-06T07:16:30.912827Z",
     "start_time": "2021-05-06T07:16:30.894831Z"
    }
   },
   "outputs": [],
   "source": [
    "batch_size = 32\n",
    "trainloader = DataLoader(train_dataset, batch_size=batch_size, shuffle=True)\n",
    "testloader = DataLoader(test_dataset, batch_size=batch_size)"
   ]
  },
  {
   "cell_type": "code",
   "execution_count": null,
   "id": "hairy-hours",
   "metadata": {
    "ExecuteTime": {
     "end_time": "2021-05-06T07:18:17.923962Z",
     "start_time": "2021-05-06T07:16:32.547137Z"
    }
   },
   "outputs": [],
   "source": [
    "epochs = 15\n",
    "batch_size = 64\n",
    "accs = []\n",
    "losses = []\n",
    "val_losses = []\n",
    "val_accs = []\n",
    "for epoch in (t:= trange(epochs)):\n",
    "    # Get batches\n",
    "    model.train()\n",
    "    loss = 0.\n",
    "    acc = 0.\n",
    "    num_batches = 0\n",
    "    for X_batch, y_batch in trainloader:\n",
    "        num_batches+=1\n",
    "        X_batch = X_batch.cuda()\n",
    "        y_batch = y_batch.cuda()\n",
    "        y_pred = model(X_batch)\n",
    "        \n",
    "        loss_batch = loss_function(y_pred, y_batch)    \n",
    "        loss += loss_batch.item()\n",
    "        acc += accuracy_score(torch.argmax(y_pred.cpu(), axis = 1), y_batch.cpu())\n",
    "        \n",
    "        optimizer.zero_grad() # don't forget this\n",
    "        loss_batch.backward()\n",
    "        optimizer.step()\n",
    "    \n",
    "    acc /= num_batches\n",
    "    loss /= num_batches\n",
    "    losses.append(loss)\n",
    "    accs.append(acc)\n",
    "    \n",
    "    # Validation set\n",
    "    model.eval()\n",
    "    num_batches = 0\n",
    "    val_acc = 0.\n",
    "    val_loss = 0.\n",
    "    for X_batch, y_batch in testloader:\n",
    "        num_batches+=1\n",
    "        X_batch = X_batch.cuda()\n",
    "        y_batch = y_batch.cuda()\n",
    "        \n",
    "        y_pred = model(X_batch)\n",
    "        val_acc += accuracy_score(torch.argmax(y_pred.cpu(), axis = 1), y_batch.cpu())\n",
    "        loss_batch = loss_function(y_pred, y_batch)    \n",
    "        val_loss += loss_batch.item()\n",
    "        \n",
    "    val_acc /= num_batches\n",
    "    val_loss /= num_batches\n",
    "    val_losses.append(val_loss)\n",
    "    val_accs.append(val_acc)\n",
    "    \n",
    "    t.set_description(f\"(Loss, Acc)--Train : {round(loss, 2), round(acc, 2)}, Test : {round(val_loss, 2), round(val_acc, 2)}\")\n",
    "    "
   ]
  },
  {
   "cell_type": "code",
   "execution_count": null,
   "id": "executed-advertiser",
   "metadata": {
    "ExecuteTime": {
     "end_time": "2021-05-06T07:18:20.600831Z",
     "start_time": "2021-05-06T07:18:20.257843Z"
    }
   },
   "outputs": [],
   "source": [
    "fig, axs = plt.subplots(1, 2, figsize = (20, 5))\n",
    "\n",
    "axs[0].set_ylim(0, 1.1)\n",
    "axs[0].plot(losses)\n",
    "axs[0].plot(val_losses)\n",
    "\n",
    "axs[1].set_ylim(0, 1.1)\n",
    "axs[1].plot(accs)\n",
    "axs[1].plot(val_accs)\n"
   ]
  },
  {
   "cell_type": "markdown",
   "id": "higher-enclosure",
   "metadata": {},
   "source": [
    "# Let's look at the convolutions"
   ]
  },
  {
   "cell_type": "code",
   "execution_count": null,
   "id": "narrative-financing",
   "metadata": {
    "ExecuteTime": {
     "end_time": "2021-05-06T07:19:05.700714Z",
     "start_time": "2021-05-06T07:19:05.635732Z"
    }
   },
   "outputs": [],
   "source": [
    "dataloader = DataLoader(dataset, batch_size = 32, shuffle = False)\n",
    "samples, labels = next(iter(dataloader))\n"
   ]
  },
  {
   "cell_type": "code",
   "execution_count": null,
   "id": "creative-anchor",
   "metadata": {
    "ExecuteTime": {
     "end_time": "2021-05-06T07:19:16.267700Z",
     "start_time": "2021-05-06T07:19:16.075698Z"
    }
   },
   "outputs": [],
   "source": [
    "sample = samples[1]\n",
    "plt.imshow(sample.T)"
   ]
  },
  {
   "cell_type": "code",
   "execution_count": null,
   "id": "original-belize",
   "metadata": {
    "ExecuteTime": {
     "end_time": "2021-05-06T07:19:21.081787Z",
     "start_time": "2021-05-06T07:19:21.066786Z"
    }
   },
   "outputs": [],
   "source": [
    "conv = nn.Conv2d(3, 8, kernel_size = 5, stride = 2, padding = 2, padding_mode = 'zeros')\n",
    "\n",
    "conv_out_untrained = conv(sample.unsqueeze(0)).detach().numpy().squeeze(0)\n",
    "\n",
    "conv_out_untrained.shape"
   ]
  },
  {
   "cell_type": "code",
   "execution_count": null,
   "id": "negative-yellow",
   "metadata": {
    "ExecuteTime": {
     "end_time": "2021-05-06T07:19:21.798588Z",
     "start_time": "2021-05-06T07:19:21.525578Z"
    }
   },
   "outputs": [],
   "source": [
    "plt.figure(figsize = (10, 10))\n",
    "plt.imshow(np.concatenate(conv_out_untrained.reshape(4, 64 * 2, 64), axis = 1), cmap='Blues')"
   ]
  },
  {
   "cell_type": "code",
   "execution_count": null,
   "id": "beneficial-batman",
   "metadata": {
    "ExecuteTime": {
     "end_time": "2021-05-06T07:19:22.046578Z",
     "start_time": "2021-05-06T07:19:22.032579Z"
    }
   },
   "outputs": [],
   "source": [
    "conv_out_trained = model.conv1(sample.unsqueeze(0).cuda()).cpu().detach().numpy().squeeze(0)\n",
    "\n",
    "conv_out_trained.shape"
   ]
  },
  {
   "cell_type": "code",
   "execution_count": null,
   "id": "manufactured-button",
   "metadata": {
    "ExecuteTime": {
     "end_time": "2021-05-06T07:19:22.809406Z",
     "start_time": "2021-05-06T07:19:22.540406Z"
    }
   },
   "outputs": [],
   "source": [
    "plt.figure(figsize = (10, 10))\n",
    "plt.imshow(np.concatenate(conv_out_trained.reshape(4, 64 * 2, 64), axis = 1), cmap='Blues')"
   ]
  },
  {
   "cell_type": "code",
   "execution_count": null,
   "id": "bacterial-consideration",
   "metadata": {
    "ExecuteTime": {
     "end_time": "2021-05-06T07:19:41.937030Z",
     "start_time": "2021-05-06T07:19:41.922028Z"
    }
   },
   "outputs": [],
   "source": [
    "model.state_dict().keys()"
   ]
  },
  {
   "cell_type": "markdown",
   "id": "improved-bench",
   "metadata": {},
   "source": [
    "# Transfer learning"
   ]
  },
  {
   "cell_type": "code",
   "execution_count": null,
   "id": "eight-input",
   "metadata": {
    "ExecuteTime": {
     "end_time": "2021-05-06T07:21:20.911858Z",
     "start_time": "2021-05-06T07:21:20.899847Z"
    }
   },
   "outputs": [],
   "source": [
    "# https://github.com/pytorch/vision/issues/616\n"
   ]
  },
  {
   "cell_type": "code",
   "execution_count": null,
   "id": "bright-irish",
   "metadata": {
    "ExecuteTime": {
     "end_time": "2021-05-06T08:56:39.213924Z",
     "start_time": "2021-05-06T08:56:38.809714Z"
    }
   },
   "outputs": [],
   "source": [
    "resnet18 = torchvision.models.resnet18(pretrained = True) # Takes multiple of 32 as input "
   ]
  },
  {
   "cell_type": "code",
   "execution_count": null,
   "id": "requested-occurrence",
   "metadata": {
    "ExecuteTime": {
     "end_time": "2021-05-06T08:56:47.820699Z",
     "start_time": "2021-05-06T08:56:47.675699Z"
    }
   },
   "outputs": [],
   "source": [
    "summary(resnet18, input_size=(3, 128, 128), batch_size = 32, device = \"cpu\")"
   ]
  },
  {
   "cell_type": "code",
   "execution_count": null,
   "id": "angry-remove",
   "metadata": {
    "ExecuteTime": {
     "end_time": "2021-05-06T08:56:53.804645Z",
     "start_time": "2021-05-06T08:56:53.794648Z"
    }
   },
   "outputs": [],
   "source": [
    "fc = nn.Sequential(OrderedDict([\n",
    "    ('fc1', nn.Linear(512,128)),\n",
    "    ('dropout', nn.Dropout(p = .5)),\n",
    "    ('relu', nn.ReLU()),\n",
    "    ('fc2', nn.Linear(128,2)),\n",
    "    ('output', nn.LogSoftmax(dim=1))\n",
    "]))\n",
    "resnet18.fc = fc"
   ]
  },
  {
   "cell_type": "code",
   "execution_count": null,
   "id": "swedish-sharp",
   "metadata": {
    "ExecuteTime": {
     "end_time": "2021-05-06T08:56:54.509694Z",
     "start_time": "2021-05-06T08:56:54.394716Z"
    }
   },
   "outputs": [],
   "source": [
    "summary(resnet18, input_size=(3, 128, 128), batch_size = 32, device = \"cpu\")"
   ]
  },
  {
   "cell_type": "code",
   "execution_count": null,
   "id": "previous-gibraltar",
   "metadata": {
    "ExecuteTime": {
     "end_time": "2021-05-06T08:56:54.900692Z",
     "start_time": "2021-05-06T08:56:54.882698Z"
    }
   },
   "outputs": [],
   "source": [
    "# Freeze the parameters \n",
    "for param in model.parameters():\n",
    "    param.requires_grad = False \n",
    "# Unfreeze last layer\n",
    "for param in resnet18.fc.parameters():\n",
    "    param.requires_grad = True\n",
    "    "
   ]
  },
  {
   "cell_type": "markdown",
   "id": "beautiful-jewel",
   "metadata": {},
   "source": [
    "### Training loop"
   ]
  },
  {
   "cell_type": "code",
   "execution_count": null,
   "id": "republican-maker",
   "metadata": {
    "ExecuteTime": {
     "end_time": "2021-05-06T08:56:55.746477Z",
     "start_time": "2021-05-06T08:56:55.691476Z"
    }
   },
   "outputs": [],
   "source": [
    "resnet18 = resnet18.cuda()"
   ]
  },
  {
   "cell_type": "code",
   "execution_count": null,
   "id": "dental-journalism",
   "metadata": {
    "ExecuteTime": {
     "end_time": "2021-05-06T08:56:56.299067Z",
     "start_time": "2021-05-06T08:56:56.242066Z"
    }
   },
   "outputs": [],
   "source": [
    "learning_rate = 1e-3\n",
    "optimizer = torch.optim.Adam(resnet18.parameters(), lr=learning_rate) # change resnet here\n",
    "loss_function = nn.CrossEntropyLoss()\n",
    "\n",
    "batch_size = 32\n",
    "trainloader = DataLoader(train_dataset, batch_size=batch_size, shuffle=True)\n",
    "testloader = DataLoader(test_dataset, batch_size=batch_size)"
   ]
  },
  {
   "cell_type": "code",
   "execution_count": null,
   "id": "satellite-knock",
   "metadata": {
    "ExecuteTime": {
     "end_time": "2021-05-06T08:58:00.711236Z",
     "start_time": "2021-05-06T08:56:56.780588Z"
    }
   },
   "outputs": [],
   "source": [
    "epochs = 10\n",
    "accs = []\n",
    "losses = []\n",
    "resnet18.train() # change resnet here\n",
    "for epoch in (t:= trange(epochs)):\n",
    "    # Get batches\n",
    "    loss = 0.\n",
    "    acc = 0.\n",
    "    num_batches = 0\n",
    "    for X_batch, y_batch in trainloader:\n",
    "        num_batches+=1\n",
    "        X_batch = X_batch.cuda()\n",
    "        y_batch = y_batch.cuda()\n",
    "        y_pred = resnet18(X_batch)\n",
    "        \n",
    "        loss_batch = loss_function(y_pred, y_batch)    \n",
    "        loss += loss_batch.item()\n",
    "        acc += accuracy_score(torch.argmax(y_pred.cpu(), axis = 1), y_batch.cpu())\n",
    "        \n",
    "        optimizer.zero_grad() # don't forget this\n",
    "        loss_batch.backward()\n",
    "        optimizer.step()\n",
    "    \n",
    "    acc /= num_batches\n",
    "    loss /= num_batches\n",
    "    losses.append(loss)\n",
    "    accs.append(acc)\n",
    "\n",
    "    # Validation set\n",
    "    model.eval()\n",
    "    num_batches = 0\n",
    "    val_acc = 0.\n",
    "    val_loss = 0.\n",
    "    for X_batch, y_batch in testloader:\n",
    "        num_batches+=1\n",
    "        X_batch = X_batch.cuda()\n",
    "        y_batch = y_batch.cuda()\n",
    "        \n",
    "        y_pred = model(X_batch)\n",
    "        val_acc += accuracy_score(torch.argmax(y_pred.cpu(), axis = 1), y_batch.cpu())\n",
    "        loss_batch = loss_function(y_pred, y_batch)    \n",
    "        val_loss += loss_batch.item()\n",
    "        \n",
    "    val_acc /= num_batches\n",
    "    val_loss /= num_batches\n",
    "    val_losses.append(val_loss)\n",
    "    val_accs.append(val_acc)\n",
    "    \n",
    "    t.set_description(f\"(Loss, Acc) -- Train : {round(loss, 2), round(acc, 2)}, Test : {round(val_loss, 2), round(val_acc, 2)}\")\n",
    "    \n",
    "\n",
    "    "
   ]
  },
  {
   "cell_type": "code",
   "execution_count": null,
   "id": "velvet-future",
   "metadata": {
    "ExecuteTime": {
     "end_time": "2021-05-06T08:58:01.059237Z",
     "start_time": "2021-05-06T08:58:00.714237Z"
    }
   },
   "outputs": [],
   "source": [
    "del X_batch, y_batch\n",
    "torch.cuda.empty_cache()"
   ]
  },
  {
   "cell_type": "code",
   "execution_count": null,
   "id": "explicit-flower",
   "metadata": {
    "ExecuteTime": {
     "end_time": "2021-05-06T08:58:01.261236Z",
     "start_time": "2021-05-06T08:58:01.062238Z"
    }
   },
   "outputs": [],
   "source": [
    "plt.figure(figsize = (10, 7))\n",
    "plt.ylim(0, 1.1)\n",
    "plt.legend(['Loss','Accuracy'])\n",
    "plt.plot(losses)\n",
    "plt.plot(accs)"
   ]
  },
  {
   "cell_type": "markdown",
   "id": "alleged-satellite",
   "metadata": {},
   "source": [
    "# Save and load models"
   ]
  },
  {
   "cell_type": "code",
   "execution_count": null,
   "id": "noted-raise",
   "metadata": {
    "ExecuteTime": {
     "end_time": "2021-05-06T09:07:36.041282Z",
     "start_time": "2021-05-06T09:07:35.893278Z"
    }
   },
   "outputs": [],
   "source": [
    "torch.save(resnet18.state_dict(), \"models/my_models/my_resnet18.pth\")"
   ]
  },
  {
   "cell_type": "code",
   "execution_count": null,
   "id": "complimentary-henry",
   "metadata": {
    "ExecuteTime": {
     "end_time": "2021-05-06T08:56:27.833497Z",
     "start_time": "2021-05-06T08:56:23.457896Z"
    }
   },
   "outputs": [],
   "source": [
    "loaded_resnet18 =  torchvision.models.resnet18(pretrained = False) # Takes multiple of 32 as input \n",
    "fc = nn.Sequential(OrderedDict([\n",
    "    ('fc1', nn.Linear(512,128)),\n",
    "    ('dropout', nn.Dropout(p = .5)),\n",
    "    ('relu', nn.ReLU()),\n",
    "    ('fc2', nn.Linear(128,2)),\n",
    "    ('output', nn.LogSoftmax(dim=1))\n",
    "]))\n",
    "loaded_resnet18.fc = fc"
   ]
  },
  {
   "cell_type": "code",
   "execution_count": null,
   "id": "golden-bikini",
   "metadata": {
    "ExecuteTime": {
     "end_time": "2021-05-06T08:56:28.086484Z",
     "start_time": "2021-05-06T08:56:27.835485Z"
    }
   },
   "outputs": [],
   "source": [
    "loaded_resnet18.load_state_dict(torch.load(\"models/my_models/my_resnet18.pth\"))\n",
    "loaded_resnet18.eval()"
   ]
  },
  {
   "cell_type": "code",
   "execution_count": null,
   "id": "fourth-ecuador",
   "metadata": {},
   "outputs": [],
   "source": []
  }
 ],
 "metadata": {
  "kernelspec": {
   "display_name": "Python 3",
   "language": "python",
   "name": "python3"
  },
  "language_info": {
   "codemirror_mode": {
    "name": "ipython",
    "version": 3
   },
   "file_extension": ".py",
   "mimetype": "text/x-python",
   "name": "python",
   "nbconvert_exporter": "python",
   "pygments_lexer": "ipython3",
   "version": "3.9.1"
  },
  "toc": {
   "base_numbering": 1,
   "nav_menu": {},
   "number_sections": true,
   "sideBar": true,
   "skip_h1_title": false,
   "title_cell": "Table of Contents",
   "title_sidebar": "Contents",
   "toc_cell": false,
   "toc_position": {},
   "toc_section_display": true,
   "toc_window_display": false
  }
 },
 "nbformat": 4,
 "nbformat_minor": 5
}
